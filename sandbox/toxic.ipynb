{
  "cells": [
    {
      "cell_type": "code",
      "execution_count": 1,
      "metadata": {
        "colab": {
          "base_uri": "https://localhost:8080/"
        },
        "collapsed": true,
        "id": "fp7U9tI_BLS_",
        "outputId": "d0a6b70f-2d63-490d-a11d-88fea0183652"
      },
      "outputs": [
        {
          "output_type": "stream",
          "name": "stdout",
          "text": [
            "Mounted at /content/gdrive\n"
          ]
        }
      ],
      "source": [
        "from google.colab import drive\n",
        "from google.colab import files\n",
        "import pickle\n",
        "import sys\n",
        "\n",
        "sys.path.append('/content/gdrive/My Drive/classification_models')\n",
        "drive.mount('/content/gdrive', force_remount=True)"
      ]
    },
    {
      "cell_type": "code",
      "execution_count": null,
      "metadata": {
        "colab": {
          "base_uri": "https://localhost:8080/"
        },
        "id": "2HUcTZ8dC0Qz",
        "outputId": "f855a734-90eb-43bb-df99-3897a9764824"
      },
      "outputs": [
        {
          "name": "stdout",
          "output_type": "stream",
          "text": [
            "Looking in indexes: https://pypi.org/simple, https://us-python.pkg.dev/colab-wheels/public/simple/\n",
            "Requirement already satisfied: tokenizers in /usr/local/lib/python3.10/dist-packages (0.13.3)\n"
          ]
        }
      ],
      "source": [
        "# %pip install tokenizers"
      ]
    },
    {
      "cell_type": "code",
      "execution_count": 10,
      "metadata": {
        "id": "AVWhm0M0hdxh"
      },
      "outputs": [],
      "source": [
        "# from model_interface import prepare_data, train_model, model_metrics, get_predictions\n",
        "# import pandas as pd\n",
        "import numpy as np # linear algebra\n",
        "import pandas as pd # data processing, CSV file I/O (e.g. pd.read_csv)\n",
        "from tqdm import tqdm\n",
        "from sklearn.model_selection import train_test_split\n",
        "import tensorflow as tf\n",
        "from tensorflow.keras.models import Sequential, Model\n",
        "\n",
        "from tensorflow.keras.layers import LSTM, GRU, Bidirectional, Dense, Activation, Dropout, Embedding, BatchNormalization, Input\n",
        "import tensorflow.keras.backend as K\n",
        "from tensorflow.keras.preprocessing import sequence, text\n",
        "\n",
        "\n",
        "from sklearn.metrics import accuracy_score, roc_auc_score, f1_score\n",
        "\n",
        "import matplotlib.pyplot as plt\n",
        "import seaborn as sns\n",
        "\n",
        "import os\n",
        "os.environ['TF_XLA_FLAGS'] = '--tf_xla_enable_xla_devices'\n",
        "import warnings\n",
        "warnings.filterwarnings(\"ignore\")\n",
        "\n",
        "import random\n",
        "\n",
        "from tqdm import tqdm\n",
        "import matplotlib.cm as cm\n",
        "\n",
        "tqdm.pandas()\n",
        "\n",
        "\n",
        "from sklearn import metrics\n",
        "from sklearn.utils import shuffle\n",
        "\n",
        "from nltk.stem.wordnet import WordNetLemmatizer\n",
        "from nltk.tokenize import word_tokenize\n",
        "from nltk.tokenize import TweetTokenizer\n",
        "\n",
        "import nltk\n",
        "\n",
        "from nltk.corpus import wordnet\n",
        "from nltk.corpus import stopwords\n",
        "from nltk import WordNetLemmatizer\n",
        "from nltk.stem import WordNetLemmatizer\n",
        "from wordcloud import WordCloud, STOPWORDS\n",
        "from nltk.sentiment.vader import SentimentIntensityAnalyzer\n",
        "\n",
        "stopword=set(STOPWORDS)\n",
        "\n",
        "lem = WordNetLemmatizer()\n",
        "tokenizer=TweetTokenizer()\n",
        "\n",
        "np.random.seed(0)\n",
        "\n",
        "\n",
        "def prepare_data(dataset, feature_column, target_column, return_test=False, max_len=None):\n",
        "    if max_len is None:\n",
        "        max_len = dataset[feature_column].apply(lambda x: len(str(x).split())).max()\n",
        "    token = text.Tokenizer(num_words=None)\n",
        "    if return_test:\n",
        "        train, test = train_test_split(dataset, train_size=0.8, shuffle=True)\n",
        "        train, validation = train_test_split(train, train_size=0.8, shuffle=True)\n",
        "        xtrain = train[feature_column].values\n",
        "        ytrain = train[target_column].values\n",
        "\n",
        "        xvalid = validation[feature_column].values\n",
        "        yvalid = validation[target_column].values\n",
        "\n",
        "        xtest = test[feature_column].values\n",
        "        ytest = test[target_column].values\n",
        "        token.fit_on_texts(list(xtrain) + list(xvalid))\n",
        "\n",
        "        xtrain_seq = token.texts_to_sequences(xtrain)\n",
        "        xvalid_seq = token.texts_to_sequences(xvalid)\n",
        "\n",
        "        xtrain_pad = sequence.pad_sequences(xtrain_seq, maxlen=max_len)\n",
        "        xvalid_pad = sequence.pad_sequences(xvalid_seq, maxlen=max_len)\n",
        "\n",
        "        xtest_seq = token.texts_to_sequences(xtest)\n",
        "        xtest_pad = sequence.pad_sequences(xtest_seq, maxlen=max_len)\n",
        "\n",
        "        word_index = token.word_index\n",
        "\n",
        "        return (xtrain_pad, ytrain), (xvalid_pad, yvalid), (xtest_pad, ytest), word_index, max_len\n",
        "\n",
        "    x = dataset[feature_column].values\n",
        "    y = dataset[target_column].values\n",
        "    token.fit_on_texts(list(x))\n",
        "    x_seq = token.texts_to_sequences(x)\n",
        "    x_pad = sequence.pad_sequences(x_seq, maxlen=max_len)\n",
        "    word_index = token.word_index\n",
        "\n",
        "    return (x_pad, y), word_index, max_len, token\n",
        "\n",
        "\n",
        "def get_embedding_matrix(embeddings_index, word_index):\n",
        "    embedding_matrix = np.zeros((len(word_index) + 1, 300))\n",
        "    for word, i in tqdm(word_index.items()):\n",
        "        embedding_vector = embeddings_index.get(word)\n",
        "        if embedding_vector is not None:\n",
        "            embedding_matrix[i] = embedding_vector\n",
        "    return embedding_matrix\n",
        "\n",
        "\n",
        "def train_model(xtrain, ytrain, len_word_index, max_len, strategy, weights=None, batch_size=16, epochs=5, threads=1, xvalid=None, yvalid=None):\n",
        "    with strategy.scope():\n",
        "        model = Sequential()\n",
        "        if weights is not None:\n",
        "            model.add(Embedding(len_word_index + 1,\n",
        "                                300,\n",
        "                                input_length=max_len,\n",
        "                                weights=[weights],\n",
        "                                trainable=False))\n",
        "        else:\n",
        "            model.add(Embedding(len_word_index + 1,\n",
        "                                300,\n",
        "                                input_length=max_len))\n",
        "            \n",
        "        model.add(BatchNormalization())\n",
        "        model.add(Bidirectional(LSTM(128, dropout=0.2, recurrent_dropout=0.2)))\n",
        "        model.add(Dropout(0.2))\n",
        "\n",
        "        model.add(Dense(1, activation='sigmoid'))\n",
        "        model.compile(loss='binary_crossentropy', optimizer='adam', metrics=['accuracy'])\n",
        "\n",
        "    if xvalid is not None and yvalid is not None:\n",
        "        model.fit(xtrain, ytrain, validation_data=(xvalid, yvalid), epochs=epochs, batch_size=batch_size * threads)\n",
        "    else:\n",
        "        model.fit(xtrain, ytrain, epochs=epochs, batch_size=batch_size * threads)\n",
        "\n",
        "    return model\n",
        "\n",
        "\n",
        "def get_predictions(x, model, print_metrics=False, target=None):\n",
        "    scores = model.predict(x)\n",
        "    predictions = np.round(np.max(scores, axis=1))\n",
        "    if print_metrics:\n",
        "        fpr, tpr, thresholds = metrics.roc_curve(target, scores)\n",
        "        roc_auc = metrics.auc(fpr, tpr)\n",
        "        f1 = metrics.f1_score(target, predictions)\n",
        "        accuracy = metrics.accuracy_score(target, predictions)\n",
        "        print(f'Roc-Auc score: {roc_auc}')\n",
        "        print(f'F1 score: {f1}')\n",
        "        print(f'Accuracy: {accuracy}')\n",
        "        plt.title('ROC')\n",
        "        plt.plot(fpr, tpr, 'b', label = 'AUC = %0.2f' % roc_auc)\n",
        "        plt.legend(loc = 'lower right')\n",
        "        plt.plot([0, 1], [0, 1],'r--')\n",
        "        plt.xlim([0, 1])\n",
        "        plt.ylim([0, 1])\n",
        "        plt.ylabel('True Positive Rate')\n",
        "        plt.xlabel('False Positive Rate')\n",
        "        plt.show()\n",
        "    return predictions\n",
        "\n",
        "\n",
        "def model_metrics(predictions, target):\n",
        "\n",
        "    fpr, tpr, thresholds = metrics.roc_curve(target, predictions)\n",
        "    roc_auc = metrics.auc(fpr, tpr)\n",
        "    return roc_auc\n"
      ]
    },
    {
      "cell_type": "code",
      "execution_count": 3,
      "metadata": {
        "colab": {
          "base_uri": "https://localhost:8080/"
        },
        "id": "6QCNXRYmQx5L",
        "outputId": "436dc6cc-9653-4459-bff5-c4ffc020becd"
      },
      "outputs": [
        {
          "output_type": "stream",
          "name": "stdout",
          "text": [
            "Running on TPU  grpc://10.6.182.50:8470\n",
            "REPLICAS:  8\n"
          ]
        }
      ],
      "source": [
        "import tensorflow as tf\n",
        "# Detect hardware, return appropriate distribution strategy\n",
        "try:\n",
        "    # TPU detection. No parameters necessary if TPU_NAME environment variable is\n",
        "    # set: this is always the case on Kaggle.\n",
        "    #tpu = None\n",
        "    tpu = tf.distribute.cluster_resolver.TPUClusterResolver()\n",
        "    \n",
        "    print('Running on TPU ', tpu.master())\n",
        "except ValueError:\n",
        "    tpu = None\n",
        "\n",
        "if tpu:\n",
        "    tf.config.experimental_connect_to_cluster(tpu)\n",
        "    tf.tpu.experimental.initialize_tpu_system(tpu)\n",
        "    strategy = tf.distribute.TPUStrategy(tpu)\n",
        "else:\n",
        "    # Default distribution strategy in Tensorflow. Works on CPU and single GPU.\n",
        "    strategy = tf.distribute.get_strategy()\n",
        "\n",
        "print(\"REPLICAS: \", strategy.num_replicas_in_sync)"
      ]
    },
    {
      "cell_type": "code",
      "execution_count": 4,
      "metadata": {
        "id": "b41L0czACdoy"
      },
      "outputs": [],
      "source": [
        "toxic_dataset = pd.read_csv('/content/gdrive/My Drive/classification_models/toxic_tweets.csv', index_col=False)\n",
        "# antivax_dataset = pd.read_csv('/content/gdrive/My Drive/classification_models/antivax_dataset.csv')\n",
        "\n",
        "# antivax_dataset = antivax_dataset[~antivax_dataset['text'].isna()]\n",
        "# antivax_dataset['anti_vax'] = antivax_dataset['anti_vax'].astype(int)"
      ]
    },
    {
      "cell_type": "code",
      "source": [
        "print(toxic_dataset[toxic_dataset['Toxicity'] == 1]['tweet'][:100].values)"
      ],
      "metadata": {
        "colab": {
          "base_uri": "https://localhost:8080/"
        },
        "id": "AofTUChTqDcI",
        "outputId": "28919f29-c1f3-46f0-f6ec-586de0a9a71b"
      },
      "execution_count": null,
      "outputs": [
        {
          "output_type": "stream",
          "name": "stdout",
          "text": [
            "[\"@user #cnn calls #michigan middle school 'build the wall' chant '' #tcot  \"\n",
            " 'no comment!  in #australia   #opkillingbay #seashepherd #helpcovedolphins #thecove  #helpcovedolphins'\n",
            " 'retweet if you agree! '\n",
            " '@user @user lumpy says i am a . prove it lumpy.'\n",
            " \"it's unbelievable that in the 21st century we'd need something like this. again. #neverump  #xenophobia \"\n",
            " '@user lets fight against  #love #peace '\n",
            " \"ð\\x9f\\x98©the white establishment can't have blk folx running around loving themselves and promoting our greatness  \"\n",
            " \"@user hey, white people: you can call people 'white' by @user  #race  #identity #medâ\\x80¦\"\n",
            " 'how the #altright uses  &amp; insecurity to lure men into #whitesupremacy    '\n",
            " \"@user i'm not interested in a #linguistics that doesn't address #race &amp; . racism is about #power. #raciolinguistics bringsâ\\x80¦\"\n",
            " '@user why not @user mocked obama for being black.  @user @user @user @user #brexit'\n",
            " \"#people aren't protesting #trump because a #republican won-they do so because trump has fuhered  &amp;â\\x80¦ \"\n",
            " \"yes it's  when you call #michelleobama a gorilla because racists have long thought of black people as no betâ\\x80¦ \"\n",
            " 'as the smaller hands show, barry probably lied about  being why his #knicks game sucked more than his #golfâ\\x80¦ '\n",
            " '@user @user you point one finger @user millions are pointed right back at you,  #jewishsupremacist'\n",
            " 'you might be a libtard if... #libtard  #sjw #liberal #politics '\n",
            " '@user take out the #trash america...  - i voted against #hate - i voted against  - i voted against  - i votâ\\x80¦ '\n",
            " \"if you hold open a door for a woman because she's a woman and not because it's a nice thing to do, that's . don't even try to deny it\"\n",
            " '@user this man ran for governor of ny, the state with the biggest african-american population    #â\\x80¦'\n",
            " '#stereotyping #prejudice  offer no #hope or solutions but create the same old repetitive #hate #conflictâ\\x80¦ '\n",
            " 'how many#pols passed by how many times and said nothing?   #bluelivesmatter #draintheswamp  #ferguson  '\n",
            " '7 horribly  ads from #2016 that made us cringe '\n",
            " '@user \"the dying of the light\"  village green/townÂ²  #antisemitism #hocoschools #columbiamd #hocomd'\n",
            " \"@user you never answered me about your statement on the #nazi's over #hatred,  &amp; #bigotry being found wâ\\x80¦ \"\n",
            " 'you might be a libtard if... #libtard  #sjw #liberal #politics '\n",
            " 'trump ny co-chair makes racist remarks about michelle obama  #p2 #p21 #fyi  #tcot'\n",
            " '@user the pic says otherwise for young girls confined in that kitchen. you are void of meaning, beyond cheap publicity #topoli '\n",
            " \"@user when you're blocked by a  troll because you promise to  #blacklivesmatter &amp; let his nonsensical rants boosâ\\x80¦ \"\n",
            " 'why the nazis studied american race laws for inspiration â\\x80\\x93  #ushistory  #eugenics'\n",
            " '@user #biherism absolutely originated in hateful  #bigotry #altright hatred of our african american #potus #theresistance'\n",
            " 'fo woh officer in viral arrest video was â\\x80\\x98rude not racistâ\\x80\\x99: chief  #crime #officerâ\\x80¦ '\n",
            " \"discussing republicans is the same thing as critiquing . we can't ignore the consequences.\"\n",
            " 'are you #black &amp; feel like the  are stomping on you? â\\x80¦  #retweet #tampa #miamiâ\\x80¦ '\n",
            " '@user #allahsoil the more familiar we become the more difficult it is to stereotype. . â\\x80¦ â\\x80¦â\\x80¦ '\n",
            " 'anti racist is a codeword for antiwhite   asia for the asians  africa for the africans  white countries for everyonâ\\x80¦ '\n",
            " '@user you #praised #cleveland police during #rnc the police are under a consent decree! 75% are #white  #tamirrice #rip'\n",
            " \"@user that doesn't prevent you from being a  and a #bigot\"\n",
            " ' girls in the world sexy mature housewife '\n",
            " \"@user i don't like the #blacklivesmatter slogan.  talk about being .\"\n",
            " '@user #feminismiscancer #feminismisterrorism #feminismmuktbharat why  #malevote is ignored  @user'\n",
            " \"fox new just coming out and saying it bluntly. one of the most  things i've read. \"\n",
            " '@user yes lets do this,suppoing a openly ,#prowar #anti #islamic,#homophobic,#rapist,who advocates more of same,#hypocrite'\n",
            " ' porn vids wwwsmallgirlsexcom'\n",
            " 'the latest obsidian radio daily!  thanks to @user @user @user  #latesnews'\n",
            " 'you might be a libtard if... #libtard  #sjw #liberal #politics '\n",
            " ' just more overwhelming evidence that the company #trump keeps echoes his sentiments &amp; ideals #dumptrump '\n",
            " '\"nigger?\" #lifelessons of a white kid who grew up in the 60\\'s. #blogpost  #whitepeople #respectâ\\x80¦ '\n",
            " 'carolyn cooper | ugly, poor, ignorant and black!  '\n",
            " '@user no, he was definitely a  mexican. #fakenewsale'\n",
            " 'standing up to racism and hate by americad not curse out congress and all haters  who are deplorable  #hateâ\\x80¦ '\n",
            " '@user #trump used #hate,  and #putin to win the white house #trump presses attack on khan family and g.o.p. leaders '\n",
            " 'everytime i wear soccer shis joie fries me and says i look mexican as fuck ð\\x9f\\x98\\x92 '\n",
            " 'the danger of white liberalism to oveurning  (applies to liberal men and feminism too)  '\n",
            " 'great aicle. right on the money! #starspangledbanner #slavery #apaheid  #usa '\n",
            " '@user thank you!! the power of #social #media!   @user #aande '\n",
            " \"@user and you keep telling that only aryans are allowed to rape women! you're just a  troll! #eod @user @user\"\n",
            " '@user any minute #trump will condemn the  #vile #bigoted comments of #his #surrogate #carlpaladino #endhateâ\\x80¦ '\n",
            " '@user #allahsoil vps got multi-million dollar bonuses while average americans lost their homes.  â\\x80¦â\\x80¦ '\n",
            " '25 jan. interested in how #discrimination and  has affected the criminal justice system? '\n",
            " 'keep up the opposition to  @user #endthenation'\n",
            " 'i guess @user is talking about progress in the advancement of , #misogyny, #homophobia, #bigotry'\n",
            " '@user jake is right, 2 many ppl lack the will power to take a stand &amp; drown the small minded &amp; oft evil tendencies of past '\n",
            " '@user .@user is it possible for you to speak in any topic without bringing race into it, you bigot? @user  â\\x80¦'\n",
            " '#rushlimbaugh does his incredibly  obama impression.  via @user'\n",
            " 'black professor makes assumptions about an entire race whilst speaking for entire race. next week the jews!â\\x80¦ '\n",
            " '#trumpusa when they call us   #homophobic #misogynist they are really saying they are jealous of us wâ\\x80¦ '\n",
            " 'i liked a @user video from @user  #sjw retard wants more !'\n",
            " '@user msg of #hope for #newyear: a business to end . #endof2016 #tedtalks #tedatibm @user  @user'\n",
            " '@user non stop election  i blame #cspan for hiding  for 8 years 2016 pittsburgh california '\n",
            " \"#people aren't protesting #trump because a #republican won-they do so because trump has fuhered  &amp;â\\x80¦ \"\n",
            " ' is not an #opinion. racism is #degrading people based on race to justify #discrimination or open #violence against them. #stopracism'\n",
            " '@user #allahsoil the next best seller book! #isis #islam #2016in4worlds #2016in4words #terrorists #gwot â\\x80¦ '\n",
            " \"@user don't forget, @user - research shows that sexist men have psychological problems. #tuckercarlson \"\n",
            " '\"no im not attracted to asian ppl bc im not asian\"  what if i tell you no im not attracted to u bc im not (inse race here) hoe   '\n",
            " 'who defines ?: historically #oppressed or historic #oppressors/#privileged'\n",
            " 'the latest the volatile daily!  thanks to @user @user @user  #space'\n",
            " '@user radicalism shouldn\\'t be countered with . terrorists see us as inhumans, but we \"the free\" can\\'t judge by color,â\\x80¦'\n",
            " '@user @user but look how passionate they are about #ivankatrump on the plane. which was #fake. yet ignore #adamsaleh. #raâ\\x80¦'\n",
            " 'todays  donkey #zionazi is proud of murdering real palestinian semitic children - thats what i callâ\\x80¦ '\n",
            " '@user the fn is seeking to rid of its anti-semitic, xenophobic image, but majority of its sympathisers still describe theâ\\x80¦ '\n",
            " \"@user all happy for Ã¨ #lbgt family,but what i don't get is the incessant but thin veiled  against other gay minorities?\"\n",
            " \"no 'racist intent'? is this guy joking?  via @user  #trump #barackobama #michelleobama\"\n",
            " \"how #quebec's #humanrights &amp; #justice system fail to protect victims of police   @user @user \"\n",
            " '@user i would have never guessed i would be so disappointed in a city.  #berlin '\n",
            " \"this how  works in uk. if i'd been white &amp; those politician impoed thieves black, they'd investigate &amp; prosecute. #returnmyvinyl ð\\x9f\\x98\\x88\"\n",
            " 'the latest the maryland daily!  thanks to @user @user #chrismukkah '\n",
            " 'also #keyboard is  when i type \"cause coopting terrorists\" reg syria it autocorrects to \"cause colored terrorists\"'\n",
            " '@user although, i am not a , a #bigot or a #misogynist, so i hope that i still qualify. #keepyoureyesontheprize-mlk'\n",
            " '@user what america owes #blacks    #africanamerican #reparations now'\n",
            " \"if #potus were white he'd still be the worst president ever and most likely the most  president ever. #trump #israel #happynewyear\"\n",
            " 'decolonizing the curriculum: the only way through the process is together -  #decolonization '\n",
            " ' is a very profitable thing im #america '\n",
            " 'this. #treasonoustrump, unsatisfied with his #whiteisis  #terrorism, has moved into nuclear terror in a newâ\\x80¦ '\n",
            " 'yay! except #ellen made  comments so should we be suppoing her? if you say #kimburrell made homo-resistantâ\\x80¦ '\n",
            " '@user #newyear! new #prez. new #destruction. new #commercials. new !new order! new tweets. new #poopin. new kids on tâ\\x80¦'\n",
            " \"@user @user @user because we have been #shuckin'andjivin for the  #democraticpay that only want our vote!\"\n",
            " \"if you didn't like  or #hitler you're definitely not going to like #traitor. #trump\"\n",
            " \"just because you #liberals are self-loathing doesn't mean the rest of us are. the only weapon you have is to yellâ\\x80¦ \"\n",
            " '@user buffalo school districts boots trump ally over racist comments. #birdsofafeather  #resist  : '\n",
            " '@user @user dear #versace: wont buy more, if there s  in yur retail sign, pissedoffitalian']\n"
          ]
        }
      ]
    },
    {
      "cell_type": "code",
      "execution_count": null,
      "metadata": {
        "id": "GQWuBP8RnBqg"
      },
      "outputs": [],
      "source": [
        "(toxic_features, toxic_target), toxic_word_index, toxic_max_len, toxic_token = prepare_data(toxic_dataset,\n",
        "                                                                                            feature_column='tweet', \n",
        "                                                                                            target_column='Toxicity',\n",
        "                                                                                            return_test=False,\n",
        "                                                                                            max_len=100)"
      ]
    },
    {
      "cell_type": "code",
      "execution_count": null,
      "metadata": {
        "id": "AlHvZUEBn4U1"
      },
      "outputs": [],
      "source": [
        "(antivax_features, antivax_target), antivax_word_index, antivax_max_len, antivax_token = prepare_data(antivax_dataset,\n",
        "                                                                                                      feature_column='text', \n",
        "                                                                                                      target_column='anti_vax',\n",
        "                                                                                                      return_test=False,\n",
        "                                                                                                      max_len=100)"
      ]
    },
    {
      "cell_type": "code",
      "execution_count": 5,
      "metadata": {
        "id": "TVmTloFeNeV-"
      },
      "outputs": [],
      "source": [
        "(toxic_xtrain, toxic_ytrain), (toxic_xvalid, toxic_yvalid), (toxic_xtest, toxic_ytest), toxic_word_index, toxic_max_len = prepare_data(toxic_dataset, \n",
        "                                                                                                                          feature_column='tweet', \n",
        "                                                                                                                          target_column='Toxicity',\n",
        "                                                                                                                          return_test=True,\n",
        "                                                                                                                          max_len=100)\n",
        "\n",
        "# (antivax_xtrain, antivax_ytrain), (antivax_xvalid, antivax_yvalid), (antivax_xtest, antivax_ytest), antivax_word_index, antivax_max_len = prepare_data(antivax_dataset, \n",
        "#                                                                                        feature_column='text', \n",
        "#                                                                                        target_column='anti_vax',\n",
        "#                                                                                        return_test=True,\n",
        "#                                                                                        max_len=100)\n"
      ]
    },
    {
      "cell_type": "code",
      "execution_count": null,
      "metadata": {
        "id": "MUL9NrSZyd3B"
      },
      "outputs": [],
      "source": [
        "embeddings_index = {}\n",
        "f = open('/content/gdrive/My Drive/classification_models/glove.840B.300d.txt','r',encoding='utf-8')\n",
        "for line in tqdm(f):\n",
        "    values = line.split(' ')\n",
        "    word = values[0]\n",
        "    coefs = np.asarray([float(val) for val in values[1:]])\n",
        "    embeddings_index[word] = coefs\n",
        "f.close()\n",
        "\n",
        "print('Found %s word vectors.' % len(embeddings_index))"
      ]
    },
    {
      "cell_type": "code",
      "execution_count": null,
      "metadata": {
        "colab": {
          "base_uri": "https://localhost:8080/"
        },
        "id": "qwhzlBB8yb-j",
        "outputId": "13dde7dc-4782-436a-f7d3-67e0628a153d"
      },
      "outputs": [
        {
          "name": "stderr",
          "output_type": "stream",
          "text": [
            "100%|██████████| 62335/62335 [00:00<00:00, 177231.88it/s]\n"
          ]
        }
      ],
      "source": [
        "toxic_embedding_matrix = np.zeros((len(toxic_word_index) + 1, 300))\n",
        "for word, i in tqdm(toxic_word_index.items()):\n",
        "    embedding_vector = embeddings_index.get(word)\n",
        "    if embedding_vector is not None:\n",
        "        toxic_embedding_matrix[i] = embedding_vector"
      ]
    },
    {
      "cell_type": "code",
      "execution_count": null,
      "metadata": {
        "colab": {
          "base_uri": "https://localhost:8080/"
        },
        "id": "SNqc47zBu9tc",
        "outputId": "af0102b0-0ae0-4f4a-b90d-63b94d7b66d2"
      },
      "outputs": [
        {
          "output_type": "stream",
          "name": "stdout",
          "text": [
            "Epoch 1/5\n",
            "444/444 [==============================] - 63s 100ms/step - loss: 0.1915 - accuracy: 0.9233\n",
            "Epoch 2/5\n",
            "444/444 [==============================] - 36s 81ms/step - loss: 0.0577 - accuracy: 0.9797\n",
            "Epoch 3/5\n",
            "444/444 [==============================] - 38s 85ms/step - loss: 0.0177 - accuracy: 0.9939\n",
            "Epoch 4/5\n",
            "444/444 [==============================] - 37s 83ms/step - loss: 0.0067 - accuracy: 0.9980\n",
            "Epoch 5/5\n",
            "444/444 [==============================] - 35s 78ms/step - loss: 0.0038 - accuracy: 0.9989\n"
          ]
        }
      ],
      "source": [
        "toxic_model = train_model(toxic_features, toxic_target, \n",
        "                          len_word_index=len(toxic_word_index), \n",
        "                          max_len=toxic_max_len,\n",
        "                          strategy=strategy,\n",
        "                          threads=strategy.num_replicas_in_sync,\n",
        "                          batch_size=16)"
      ]
    },
    {
      "cell_type": "code",
      "execution_count": null,
      "metadata": {
        "colab": {
          "base_uri": "https://localhost:8080/"
        },
        "id": "Y3q2nSkUvZ4S",
        "outputId": "a455321a-34c7-4d2b-d4a6-4faa634474c0"
      },
      "outputs": [
        {
          "output_type": "stream",
          "name": "stdout",
          "text": [
            "Epoch 1/5\n",
            "579/579 [==============================] - 77s 97ms/step - loss: 0.2866 - accuracy: 0.8776\n",
            "Epoch 2/5\n",
            "579/579 [==============================] - 46s 79ms/step - loss: 0.1387 - accuracy: 0.9468\n",
            "Epoch 3/5\n",
            "579/579 [==============================] - 46s 80ms/step - loss: 0.0800 - accuracy: 0.9688\n",
            "Epoch 4/5\n",
            "579/579 [==============================] - 46s 79ms/step - loss: 0.0517 - accuracy: 0.9798\n",
            "Epoch 5/5\n",
            "579/579 [==============================] - 46s 80ms/step - loss: 0.0377 - accuracy: 0.9851\n"
          ]
        }
      ],
      "source": [
        "antivax_model = train_model(antivax_features, antivax_target,\n",
        "                            len_word_index=len(antivax_word_index), \n",
        "                            max_len=antivax_max_len,\n",
        "                            strategy=strategy,\n",
        "                            threads=strategy.num_replicas_in_sync,\n",
        "                            batch_size=16,\n",
        "                            epochs=5)"
      ]
    },
    {
      "cell_type": "code",
      "execution_count": null,
      "metadata": {
        "id": "N4ClYAkN4ndD"
      },
      "outputs": [],
      "source": [
        "from tensorflow.keras.saving import save_model\n",
        "\n",
        "# save_model(toxic_model, '/content/gdrive/My Drive/classification_models/toxic_model')\n",
        "save_model(antivax_model, '/content/gdrive/My Drive/classification_models/antivax_model')"
      ]
    },
    {
      "cell_type": "code",
      "execution_count": 7,
      "metadata": {
        "id": "RQdP_2pwO7Gc",
        "colab": {
          "base_uri": "https://localhost:8080/"
        },
        "outputId": "436a60f8-a31d-4f80-ff79-996ba882e8bd"
      },
      "outputs": [
        {
          "output_type": "stream",
          "name": "stdout",
          "text": [
            "Epoch 1/5\n",
            "284/284 [==============================] - 55s 129ms/step - loss: 0.2220 - accuracy: 0.9073 - val_loss: 0.3906 - val_accuracy: 0.7900\n",
            "Epoch 2/5\n",
            "284/284 [==============================] - 24s 85ms/step - loss: 0.0634 - accuracy: 0.9781 - val_loss: 0.1981 - val_accuracy: 0.9358\n",
            "Epoch 3/5\n",
            "284/284 [==============================] - 23s 79ms/step - loss: 0.0182 - accuracy: 0.9942 - val_loss: 0.2629 - val_accuracy: 0.9349\n",
            "Epoch 4/5\n",
            "284/284 [==============================] - 23s 80ms/step - loss: 0.0059 - accuracy: 0.9983 - val_loss: 0.3297 - val_accuracy: 0.9308\n",
            "Epoch 5/5\n",
            "284/284 [==============================] - 23s 81ms/step - loss: 0.0031 - accuracy: 0.9994 - val_loss: 0.3702 - val_accuracy: 0.9343\n"
          ]
        }
      ],
      "source": [
        "toxic_model = train_model(toxic_xtrain, toxic_ytrain, \n",
        "                          len_word_index=len(toxic_word_index), \n",
        "                          # weights = toxic_embedding_matrix,\n",
        "                          max_len=toxic_max_len,\n",
        "                          strategy=strategy,\n",
        "                          xvalid=toxic_xvalid, yvalid=toxic_yvalid, threads=strategy.num_replicas_in_sync)"
      ]
    },
    {
      "cell_type": "code",
      "execution_count": null,
      "metadata": {
        "colab": {
          "base_uri": "https://localhost:8080/"
        },
        "id": "bB5JWDjF3MvN",
        "outputId": "bd538b61-a655-48fd-cc19-3dda49783cc3"
      },
      "outputs": [
        {
          "name": "stderr",
          "output_type": "stream",
          "text": [
            "100%|██████████| 82681/82681 [00:00<00:00, 210992.29it/s]\n"
          ]
        }
      ],
      "source": [
        "antivax_embedding_matrix = np.zeros((len(antivax_word_index) + 1, 300))\n",
        "for word, i in tqdm(antivax_word_index.items()):\n",
        "    embedding_vector = embeddings_index.get(word)\n",
        "    if embedding_vector is not None:\n",
        "        antivax_embedding_matrix[i] = embedding_vector"
      ]
    },
    {
      "cell_type": "code",
      "execution_count": null,
      "metadata": {
        "colab": {
          "base_uri": "https://localhost:8080/"
        },
        "id": "q0HhiARllFd1",
        "outputId": "c8259421-d762-493a-b097-9ce31f129082"
      },
      "outputs": [
        {
          "name": "stdout",
          "output_type": "stream",
          "text": [
            "Epoch 1/5\n",
            "371/371 [==============================] - 54s 99ms/step - loss: 0.3602 - accuracy: 0.8433 - val_loss: 0.3280 - val_accuracy: 0.8702\n",
            "Epoch 2/5\n",
            "371/371 [==============================] - 27s 72ms/step - loss: 0.2687 - accuracy: 0.8893 - val_loss: 0.2725 - val_accuracy: 0.8876\n",
            "Epoch 3/5\n",
            "371/371 [==============================] - 27s 72ms/step - loss: 0.2343 - accuracy: 0.9044 - val_loss: 0.2767 - val_accuracy: 0.8931\n",
            "Epoch 4/5\n",
            "371/371 [==============================] - 26s 71ms/step - loss: 0.2082 - accuracy: 0.9146 - val_loss: 0.2578 - val_accuracy: 0.8976\n",
            "Epoch 5/5\n",
            "371/371 [==============================] - 27s 73ms/step - loss: 0.1876 - accuracy: 0.9244 - val_loss: 0.2590 - val_accuracy: 0.8988\n"
          ]
        }
      ],
      "source": [
        "antivax_model = train_model(antivax_xtrain, \n",
        "                            antivax_ytrain, \n",
        "                            len_word_index=len(antivax_word_index), \n",
        "                            max_len=antivax_max_len,\n",
        "                            strategy=strategy,\n",
        "                            weights=antivax_embedding_matrix,\n",
        "                            xvalid=antivax_xvalid, yvalid=antivax_yvalid, threads=strategy.num_replicas_in_sync)"
      ]
    },
    {
      "cell_type": "code",
      "source": [
        "get_predictions(toxic_xtest, toxic_model, print_metrics=True, target=toxic_ytest)"
      ],
      "metadata": {
        "colab": {
          "base_uri": "https://localhost:8080/",
          "height": 561
        },
        "id": "_r2iGp_xgkyc",
        "outputId": "7e9f777a-f07f-4f44-d25b-df235fb0ff1b"
      },
      "execution_count": 11,
      "outputs": [
        {
          "output_type": "stream",
          "name": "stdout",
          "text": [
            "355/355 [==============================] - 6s 15ms/step\n",
            "Roc-Auc score: 0.9797315350684028\n",
            "F1 score: 0.9302086545379792\n",
            "Accuracy: 0.9401709401709402\n"
          ]
        },
        {
          "output_type": "display_data",
          "data": {
            "text/plain": [
              "<Figure size 640x480 with 1 Axes>"
            ],
            "image/png": "[encoded data removed]"
          },
          "metadata": {}
        },
        {
          "output_type": "execute_result",
          "data": {
            "text/plain": [
              "array([0., 1., 1., ..., 1., 0., 0.], dtype=float32)"
            ]
          },
          "metadata": {},
          "execution_count": 11
        }
      ]
    },
    {
      "cell_type": "code",
      "execution_count": null,
      "metadata": {
        "colab": {
          "base_uri": "https://localhost:8080/"
        },
        "id": "UTiMC5xyxPoW",
        "outputId": "d37a1335-3021-4f11-f7a1-bba08e183d02"
      },
      "outputs": [
        {
          "name": "stdout",
          "output_type": "stream",
          "text": [
            "463/463 [==============================] - 11s 19ms/step\n",
            "Roc-Auc score: 0.9648682776748614\n",
            "F1 score: 0.8910102224894769\n",
            "Accuracy: 0.9020733436887959\n"
          ]
        }
      ],
      "source": [
        "predictions = get_predictions(antivax_xtest, antivax_model, print_metrics=True, target=antivax_ytest)"
      ]
    },
    {
      "cell_type": "code",
      "source": [
        "with open('/content/gdrive/My Drive/classification_models/replies_clusters_with_datetime.pickle', 'rb') as f:\n",
        "    replies_clusters = pickle.load(f)"
      ],
      "metadata": {
        "id": "h9VtnM9zGNz6"
      },
      "execution_count": null,
      "outputs": []
    },
    {
      "cell_type": "code",
      "source": [
        "replies_clusters['cleaned_tweet'].values"
      ],
      "metadata": {
        "colab": {
          "base_uri": "https://localhost:8080/"
        },
        "id": "TX3e2fOedcif",
        "outputId": "bb002666-3d80-425b-9746-96a8b327fcc7"
      },
      "execution_count": null,
      "outputs": [
        {
          "output_type": "execute_result",
          "data": {
            "text/plain": [
              "6                               vaccination dangers health\n",
              "8        sharp end of vaccination the daily telegraph b...\n",
              "7        the sharp end of vaccination gets served the c...\n",
              "5        flu vaccination event raises more than k for c...\n",
              "4        flu vaccination programme for pregnant women u...\n",
              "                               ...                        \n",
              "48602    you are lying i live in eu we have mandatory v...\n",
              "48603    you as declared leftist probably support depop...\n",
              "48605    no it s not proven vaccination is just product...\n",
              "48609    he is the president that bailed out vaccinatio...\n",
              "48613    day hi love hope your day went well baby sorry...\n",
              "Name: cleaned_tweet, Length: 48619, dtype: object"
            ]
          },
          "metadata": {},
          "execution_count": 12
        }
      ]
    },
    {
      "cell_type": "code",
      "source": [
        "def get_tokens(data, token, max_len=100):\n",
        "    x_seq = token.texts_to_sequences(data)\n",
        "    x_pad = sequence.pad_sequences(x_seq, maxlen=max_len)\n",
        "    return x_pad"
      ],
      "metadata": {
        "id": "L6NgNQwWf6yM"
      },
      "execution_count": null,
      "outputs": []
    },
    {
      "cell_type": "code",
      "source": [
        "tweets_toxic_pad = get_tokens(replies_clusters['cleaned_tweet'].values, toxic_token)\n",
        "tweets_antivax_pad = get_tokens(replies_clusters['cleaned_tweet'].values, antivax_token)"
      ],
      "metadata": {
        "id": "vAvm5Jo9hixl"
      },
      "execution_count": null,
      "outputs": []
    },
    {
      "cell_type": "code",
      "source": [
        "toxic_predictions = get_predictions(tweets_toxic_pad, toxic_model, print_metrics=False)\n",
        "antivax_predictions = get_predictions(tweets_antivax_pad, antivax_model, print_metrics=False)"
      ],
      "metadata": {
        "colab": {
          "base_uri": "https://localhost:8080/"
        },
        "id": "33AT7N3Qfq5u",
        "outputId": "a25620c8-b99d-4b78-b951-d78b04412174"
      },
      "execution_count": null,
      "outputs": [
        {
          "output_type": "stream",
          "name": "stdout",
          "text": [
            "1520/1520 [==============================] - 26s 16ms/step\n",
            "1520/1520 [==============================] - 27s 17ms/step\n"
          ]
        }
      ]
    },
    {
      "cell_type": "code",
      "source": [
        "sum(antivax_predictions)"
      ],
      "metadata": {
        "colab": {
          "base_uri": "https://localhost:8080/"
        },
        "id": "RoxbUaArkWdP",
        "outputId": "afd283b5-8477-4596-b9cc-2adf71b39f38"
      },
      "execution_count": null,
      "outputs": [
        {
          "output_type": "execute_result",
          "data": {
            "text/plain": [
              "42064.0"
            ]
          },
          "metadata": {},
          "execution_count": 37
        }
      ]
    },
    {
      "cell_type": "code",
      "source": [
        "toxic_tokens_empty = [0] * len(tweets_toxic_pad)\n",
        "antivax_tokens_empty = [0] * len(tweets_toxic_pad)\n",
        "\n",
        "for i, tok in enumerate(tweets_toxic_pad):\n",
        "    if sum(tok) == 0:\n",
        "        toxic_tokens_empty[i] = 1\n",
        "\n",
        "for i, tok in enumerate(tweets_antivax_pad):\n",
        "    if sum(tok) == 0:\n",
        "        antivax_tokens_empty[i] = 1"
      ],
      "metadata": {
        "id": "rPL1Dbtvkqu_"
      },
      "execution_count": null,
      "outputs": []
    },
    {
      "cell_type": "code",
      "source": [
        "replies_clusters['toxic_prediction'] = toxic_predictions\n",
        "replies_clusters['antivax_prediction'] = antivax_predictions\n",
        "\n",
        "replies_clusters['toxic_tokens_empty'] = toxic_tokens_empty\n",
        "replies_clusters['antivax_tokens_empty'] = antivax_tokens_empty"
      ],
      "metadata": {
        "id": "EjX2SsVMltHR"
      },
      "execution_count": null,
      "outputs": []
    },
    {
      "cell_type": "code",
      "source": [
        "replies_clusters['toxic_prediction'] = replies_clusters['toxic_prediction'].astype(int)\n",
        "replies_clusters['antivax_prediction'] = replies_clusters['antivax_prediction'].astype(int)"
      ],
      "metadata": {
        "id": "YyRXdBXkl2-L"
      },
      "execution_count": null,
      "outputs": []
    },
    {
      "cell_type": "code",
      "source": [
        "with open('/content/gdrive/My Drive/classification_models/replies_clusters_with_predicitons.pickle', 'wb') as f:\n",
        "    pickle.dump(replies_clusters, f)"
      ],
      "metadata": {
        "id": "D2tc_ryZl4FA"
      },
      "execution_count": null,
      "outputs": []
    },
    {
      "cell_type": "code",
      "source": [
        "replies_clusters"
      ],
      "metadata": {
        "colab": {
          "base_uri": "https://localhost:8080/",
          "height": 1000
        },
        "id": "wDbv7GVemDnC",
        "outputId": "6db5aaf8-ec1d-43cd-a54b-f5deaece4d97"
      },
      "execution_count": null,
      "outputs": [
        {
          "output_type": "execute_result",
          "data": {
            "text/plain": [
              "           conversation_id             user_id         username  \\\n",
              "6         1030000000000000            15628274          drbloem   \n",
              "8         1030000000000000            88865710  reasonable_hank   \n",
              "7         1030000000000000            17887403      happysinger   \n",
              "5         1120000000000000            79896423   constanthealth   \n",
              "4         1180000000000000            67735456     superdave009   \n",
              "...                    ...                 ...              ...   \n",
              "48602  1080000000000000000            47074030         lecterro   \n",
              "48603  1080000000000000000            47074030         lecterro   \n",
              "48605  1080000000000000000            47074030         lecterro   \n",
              "48609  1080000000000000000  861000000000000000  patriciamspenc2   \n",
              "48613  1080000000000000000  839000000000000000       taeis4kook   \n",
              "\n",
              "                                                   tweet  \\\n",
              "6      Vaccination Dangers  http://bit.ly/54oEjD #health   \n",
              "8      Sharp end of vaccination | The Daily Telegraph...   \n",
              "7      The Sharp End of Vaccination: @nocompulsoryvac...   \n",
              "5      Flu vaccination event raises more than $24K fo...   \n",
              "4      Flu vaccination programme for pregnant women u...   \n",
              "...                                                  ...   \n",
              "48602  You are lying. I live in EU we have mandatory ...   \n",
              "48603  You as declared leftist probably support depop...   \n",
              "48605  No, it's not proven. Vaccination is just produ...   \n",
              "48609  He is the President that bailed out vaccinatio...   \n",
              "48613  ♡━━━━ day 201/365 ━━━━♡  ✧*2019.07.20*✧ [💌]:Hi...   \n",
              "\n",
              "                                                mentions  replies_count  \\\n",
              "6                                                     []              0   \n",
              "8                                    ['nocompulsoryvac']              0   \n",
              "7                                    ['nocompulsoryvac']              0   \n",
              "5                                                     []              0   \n",
              "4                                                     []              0   \n",
              "...                                                  ...            ...   \n",
              "48602  ['sciarpuccio', 'thedarklander', 'customdeluxe...              2   \n",
              "48603  ['sciarpuccio', 'thedarklander', 'customdeluxe...              0   \n",
              "48605  ['sciarpuccio', 'customdeluxe79', 'thedarkland...              3   \n",
              "48609                ['iamthewatchman3', 'craigrsawyer']              0   \n",
              "48613                                                 []              0   \n",
              "\n",
              "       retweets_count  likes_count  \\\n",
              "6                   0            0   \n",
              "8                   0            0   \n",
              "7                  11            1   \n",
              "5                   0            0   \n",
              "4                   0            0   \n",
              "...               ...          ...   \n",
              "48602               0            0   \n",
              "48603               0            0   \n",
              "48605               0            0   \n",
              "48609               0            0   \n",
              "48613               0            6   \n",
              "\n",
              "                                                hashtags  \\\n",
              "6                                            ['#health']   \n",
              "8      ['#stopavn', '#vaxfax', '#1sol', '#vaccinetimes']   \n",
              "7                              ['#stopavn', '#skeptics']   \n",
              "5                                                     []   \n",
              "4                                                     []   \n",
              "...                                                  ...   \n",
              "48602                                                 []   \n",
              "48603                                                 []   \n",
              "48605                                                 []   \n",
              "48609                                                 []   \n",
              "48613                                                 []   \n",
              "\n",
              "                                                reply_to  ...  \\\n",
              "6       [{'user_id': '15628274', 'username': 'drbloem'}]  ...   \n",
              "8      [{'user_id': '88865710', 'username': 'reasonab...  ...   \n",
              "7      [{'user_id': '17887403', 'username': 'HappySin...  ...   \n",
              "5      [{'user_id': '79896423', 'username': 'constant...  ...   \n",
              "4      [{'user_id': '67735456', 'username': 'SUPERDAV...  ...   \n",
              "...                                                  ...  ...   \n",
              "48602  [{'user_id': '47074030', 'username': 'lecterro...  ...   \n",
              "48603  [{'user_id': '47074030', 'username': 'lecterro...  ...   \n",
              "48605  [{'user_id': '47074030', 'username': 'lecterro...  ...   \n",
              "48609  [{'user_id': '860595938204819458', 'username':...  ...   \n",
              "48613  [{'user_id': '838675078577549313', 'username':...  ...   \n",
              "\n",
              "                                          embeddings_pca  \\\n",
              "6      [0.089807294, -0.076945916, -0.060742203, -0.0...   \n",
              "8      [0.033905577, 0.08001816, 0.15066516, 0.076626...   \n",
              "7      [-0.0499199, -0.034067053, -0.027884655, -0.14...   \n",
              "5      [-0.050425336, -0.13559175, 0.050015662, 0.127...   \n",
              "4      [0.08692184, -0.136391, 0.0139097655, 0.196331...   \n",
              "...                                                  ...   \n",
              "48602  [0.05201471, 0.044375177, -0.09976234, 0.09072...   \n",
              "48603  [-0.045209162, -0.039129417, -0.122394286, -0....   \n",
              "48605  [-0.035899732, -0.08410108, -0.08765227, -0.04...   \n",
              "48609  [-0.05483665, -0.045734424, -0.07168237, -0.14...   \n",
              "48613  [0.055522718, 0.017678889, 0.20986943, 0.15838...   \n",
              "\n",
              "                 embeddings_tsne  \\\n",
              "6      [-6.5955834, -0.24445535]   \n",
              "8          [9.261212, 13.295772]   \n",
              "7          [6.424397, 16.822279]   \n",
              "5         [28.01074, -12.579171]   \n",
              "4        [29.058771, -24.126238]   \n",
              "...                          ...   \n",
              "48602   [-21.607311, -15.356277]   \n",
              "48603    [-18.350245, 6.1286597]   \n",
              "48605     [-7.565072, 10.097867]   \n",
              "48609    [-17.665083, 15.848436]   \n",
              "48613     [11.696595, 5.2429347]   \n",
              "\n",
              "                                       avg_embedding_pca  \\\n",
              "6      [3.2530833890231343, -3.8364880767818645, -2.2...   \n",
              "8      [-3.9778080080169658, -1.2387839170417985, 3.2...   \n",
              "7      [-4.79636196862201, 0.17660501149269758, 2.510...   \n",
              "5      [-1.3124122646398337, -0.35740021322966625, 0....   \n",
              "4      [-0.8337440585171392, 0.8233614155332241, -0.1...   \n",
              "...                                                  ...   \n",
              "48602  [-0.5615677590726315, -1.3629824259284742, -2....   \n",
              "48603  [-0.5615677590726315, -1.3629824259284742, -2....   \n",
              "48605  [-0.5615677590726315, -1.3629824259284742, -2....   \n",
              "48609  [7.105819932914268, 0.12631774595847284, -0.44...   \n",
              "48613  [8.257141183391006, -2.9430878716166595, -0.55...   \n",
              "\n",
              "            avg_embedding_tsne  tweets_cluster            datetime  \\\n",
              "6       [-3.920255, 6.8469424]               0 2010-01-01 03:03:23   \n",
              "8       [-28.207369, 7.776887]               0 2010-11-07 00:36:02   \n",
              "7      [-28.388243, 7.0919704]               0 2010-11-07 01:06:36   \n",
              "5       [1.8229796, -14.62932]               2 2010-11-07 06:50:01   \n",
              "4      [1.9250319, -14.756243]               2 2010-11-07 11:11:34   \n",
              "...                        ...             ...                 ...   \n",
              "48602   [-16.840807, 4.265732]               0 2019-04-09 09:34:55   \n",
              "48603   [-16.840807, 4.265732]               0 2019-04-12 17:54:23   \n",
              "48605   [-16.840807, 4.265732]               0 2019-04-16 22:24:23   \n",
              "48609   [30.488146, 0.9783122]               1 2019-06-11 18:00:04   \n",
              "48613   [21.41897, -3.8995142]               1 2019-07-20 20:05:10   \n",
              "\n",
              "       toxic_prediction  antivax_prediction  toxic_tokens_empty  \\\n",
              "6                     0                   1                   0   \n",
              "8                     0                   1                   0   \n",
              "7                     0                   1                   0   \n",
              "5                     0                   0                   0   \n",
              "4                     0                   1                   0   \n",
              "...                 ...                 ...                 ...   \n",
              "48602                 0                   1                   0   \n",
              "48603                 0                   1                   0   \n",
              "48605                 0                   1                   0   \n",
              "48609                 1                   1                   0   \n",
              "48613                 0                   1                   0   \n",
              "\n",
              "       antivax_tokens_empty  \n",
              "6                         0  \n",
              "8                         0  \n",
              "7                         0  \n",
              "5                         0  \n",
              "4                         0  \n",
              "...                     ...  \n",
              "48602                     0  \n",
              "48603                     0  \n",
              "48605                     0  \n",
              "48609                     0  \n",
              "48613                     0  \n",
              "\n",
              "[48619 rows x 43 columns]"
            ],
            "text/html": [
              "\n",
              "  <div id=\"df-ac121646-8f29-48d5-9761-c32616e99a96\">\n",
              "    <div class=\"colab-df-container\">\n",
              "      <div>\n",
              "<style scoped>\n",
              "    .dataframe tbody tr th:only-of-type {\n",
              "        vertical-align: middle;\n",
              "    }\n",
              "\n",
              "    .dataframe tbody tr th {\n",
              "        vertical-align: top;\n",
              "    }\n",
              "\n",
              "    .dataframe thead th {\n",
              "        text-align: right;\n",
              "    }\n",
              "</style>\n",
              "<table border=\"1\" class=\"dataframe\">\n",
              "  <thead>\n",
              "    <tr style=\"text-align: right;\">\n",
              "      <th></th>\n",
              "      <th>conversation_id</th>\n",
              "      <th>user_id</th>\n",
              "      <th>username</th>\n",
              "      <th>tweet</th>\n",
              "      <th>mentions</th>\n",
              "      <th>replies_count</th>\n",
              "      <th>retweets_count</th>\n",
              "      <th>likes_count</th>\n",
              "      <th>hashtags</th>\n",
              "      <th>reply_to</th>\n",
              "      <th>...</th>\n",
              "      <th>embeddings_pca</th>\n",
              "      <th>embeddings_tsne</th>\n",
              "      <th>avg_embedding_pca</th>\n",
              "      <th>avg_embedding_tsne</th>\n",
              "      <th>tweets_cluster</th>\n",
              "      <th>datetime</th>\n",
              "      <th>toxic_prediction</th>\n",
              "      <th>antivax_prediction</th>\n",
              "      <th>toxic_tokens_empty</th>\n",
              "      <th>antivax_tokens_empty</th>\n",
              "    </tr>\n",
              "  </thead>\n",
              "  <tbody>\n",
              "    <tr>\n",
              "      <th>6</th>\n",
              "      <td>1030000000000000</td>\n",
              "      <td>15628274</td>\n",
              "      <td>drbloem</td>\n",
              "      <td>Vaccination Dangers  http://bit.ly/54oEjD #health</td>\n",
              "      <td>[]</td>\n",
              "      <td>0</td>\n",
              "      <td>0</td>\n",
              "      <td>0</td>\n",
              "      <td>['#health']</td>\n",
              "      <td>[{'user_id': '15628274', 'username': 'drbloem'}]</td>\n",
              "      <td>...</td>\n",
              "      <td>[0.089807294, -0.076945916, -0.060742203, -0.0...</td>\n",
              "      <td>[-6.5955834, -0.24445535]</td>\n",
              "      <td>[3.2530833890231343, -3.8364880767818645, -2.2...</td>\n",
              "      <td>[-3.920255, 6.8469424]</td>\n",
              "      <td>0</td>\n",
              "      <td>2010-01-01 03:03:23</td>\n",
              "      <td>0</td>\n",
              "      <td>1</td>\n",
              "      <td>0</td>\n",
              "      <td>0</td>\n",
              "    </tr>\n",
              "    <tr>\n",
              "      <th>8</th>\n",
              "      <td>1030000000000000</td>\n",
              "      <td>88865710</td>\n",
              "      <td>reasonable_hank</td>\n",
              "      <td>Sharp end of vaccination | The Daily Telegraph...</td>\n",
              "      <td>['nocompulsoryvac']</td>\n",
              "      <td>0</td>\n",
              "      <td>0</td>\n",
              "      <td>0</td>\n",
              "      <td>['#stopavn', '#vaxfax', '#1sol', '#vaccinetimes']</td>\n",
              "      <td>[{'user_id': '88865710', 'username': 'reasonab...</td>\n",
              "      <td>...</td>\n",
              "      <td>[0.033905577, 0.08001816, 0.15066516, 0.076626...</td>\n",
              "      <td>[9.261212, 13.295772]</td>\n",
              "      <td>[-3.9778080080169658, -1.2387839170417985, 3.2...</td>\n",
              "      <td>[-28.207369, 7.776887]</td>\n",
              "      <td>0</td>\n",
              "      <td>2010-11-07 00:36:02</td>\n",
              "      <td>0</td>\n",
              "      <td>1</td>\n",
              "      <td>0</td>\n",
              "      <td>0</td>\n",
              "    </tr>\n",
              "    <tr>\n",
              "      <th>7</th>\n",
              "      <td>1030000000000000</td>\n",
              "      <td>17887403</td>\n",
              "      <td>happysinger</td>\n",
              "      <td>The Sharp End of Vaccination: @nocompulsoryvac...</td>\n",
              "      <td>['nocompulsoryvac']</td>\n",
              "      <td>0</td>\n",
              "      <td>11</td>\n",
              "      <td>1</td>\n",
              "      <td>['#stopavn', '#skeptics']</td>\n",
              "      <td>[{'user_id': '17887403', 'username': 'HappySin...</td>\n",
              "      <td>...</td>\n",
              "      <td>[-0.0499199, -0.034067053, -0.027884655, -0.14...</td>\n",
              "      <td>[6.424397, 16.822279]</td>\n",
              "      <td>[-4.79636196862201, 0.17660501149269758, 2.510...</td>\n",
              "      <td>[-28.388243, 7.0919704]</td>\n",
              "      <td>0</td>\n",
              "      <td>2010-11-07 01:06:36</td>\n",
              "      <td>0</td>\n",
              "      <td>1</td>\n",
              "      <td>0</td>\n",
              "      <td>0</td>\n",
              "    </tr>\n",
              "    <tr>\n",
              "      <th>5</th>\n",
              "      <td>1120000000000000</td>\n",
              "      <td>79896423</td>\n",
              "      <td>constanthealth</td>\n",
              "      <td>Flu vaccination event raises more than $24K fo...</td>\n",
              "      <td>[]</td>\n",
              "      <td>0</td>\n",
              "      <td>0</td>\n",
              "      <td>0</td>\n",
              "      <td>[]</td>\n",
              "      <td>[{'user_id': '79896423', 'username': 'constant...</td>\n",
              "      <td>...</td>\n",
              "      <td>[-0.050425336, -0.13559175, 0.050015662, 0.127...</td>\n",
              "      <td>[28.01074, -12.579171]</td>\n",
              "      <td>[-1.3124122646398337, -0.35740021322966625, 0....</td>\n",
              "      <td>[1.8229796, -14.62932]</td>\n",
              "      <td>2</td>\n",
              "      <td>2010-11-07 06:50:01</td>\n",
              "      <td>0</td>\n",
              "      <td>0</td>\n",
              "      <td>0</td>\n",
              "      <td>0</td>\n",
              "    </tr>\n",
              "    <tr>\n",
              "      <th>4</th>\n",
              "      <td>1180000000000000</td>\n",
              "      <td>67735456</td>\n",
              "      <td>superdave009</td>\n",
              "      <td>Flu vaccination programme for pregnant women u...</td>\n",
              "      <td>[]</td>\n",
              "      <td>0</td>\n",
              "      <td>0</td>\n",
              "      <td>0</td>\n",
              "      <td>[]</td>\n",
              "      <td>[{'user_id': '67735456', 'username': 'SUPERDAV...</td>\n",
              "      <td>...</td>\n",
              "      <td>[0.08692184, -0.136391, 0.0139097655, 0.196331...</td>\n",
              "      <td>[29.058771, -24.126238]</td>\n",
              "      <td>[-0.8337440585171392, 0.8233614155332241, -0.1...</td>\n",
              "      <td>[1.9250319, -14.756243]</td>\n",
              "      <td>2</td>\n",
              "      <td>2010-11-07 11:11:34</td>\n",
              "      <td>0</td>\n",
              "      <td>1</td>\n",
              "      <td>0</td>\n",
              "      <td>0</td>\n",
              "    </tr>\n",
              "    <tr>\n",
              "      <th>...</th>\n",
              "      <td>...</td>\n",
              "      <td>...</td>\n",
              "      <td>...</td>\n",
              "      <td>...</td>\n",
              "      <td>...</td>\n",
              "      <td>...</td>\n",
              "      <td>...</td>\n",
              "      <td>...</td>\n",
              "      <td>...</td>\n",
              "      <td>...</td>\n",
              "      <td>...</td>\n",
              "      <td>...</td>\n",
              "      <td>...</td>\n",
              "      <td>...</td>\n",
              "      <td>...</td>\n",
              "      <td>...</td>\n",
              "      <td>...</td>\n",
              "      <td>...</td>\n",
              "      <td>...</td>\n",
              "      <td>...</td>\n",
              "      <td>...</td>\n",
              "    </tr>\n",
              "    <tr>\n",
              "      <th>48602</th>\n",
              "      <td>1080000000000000000</td>\n",
              "      <td>47074030</td>\n",
              "      <td>lecterro</td>\n",
              "      <td>You are lying. I live in EU we have mandatory ...</td>\n",
              "      <td>['sciarpuccio', 'thedarklander', 'customdeluxe...</td>\n",
              "      <td>2</td>\n",
              "      <td>0</td>\n",
              "      <td>0</td>\n",
              "      <td>[]</td>\n",
              "      <td>[{'user_id': '47074030', 'username': 'lecterro...</td>\n",
              "      <td>...</td>\n",
              "      <td>[0.05201471, 0.044375177, -0.09976234, 0.09072...</td>\n",
              "      <td>[-21.607311, -15.356277]</td>\n",
              "      <td>[-0.5615677590726315, -1.3629824259284742, -2....</td>\n",
              "      <td>[-16.840807, 4.265732]</td>\n",
              "      <td>0</td>\n",
              "      <td>2019-04-09 09:34:55</td>\n",
              "      <td>0</td>\n",
              "      <td>1</td>\n",
              "      <td>0</td>\n",
              "      <td>0</td>\n",
              "    </tr>\n",
              "    <tr>\n",
              "      <th>48603</th>\n",
              "      <td>1080000000000000000</td>\n",
              "      <td>47074030</td>\n",
              "      <td>lecterro</td>\n",
              "      <td>You as declared leftist probably support depop...</td>\n",
              "      <td>['sciarpuccio', 'thedarklander', 'customdeluxe...</td>\n",
              "      <td>0</td>\n",
              "      <td>0</td>\n",
              "      <td>0</td>\n",
              "      <td>[]</td>\n",
              "      <td>[{'user_id': '47074030', 'username': 'lecterro...</td>\n",
              "      <td>...</td>\n",
              "      <td>[-0.045209162, -0.039129417, -0.122394286, -0....</td>\n",
              "      <td>[-18.350245, 6.1286597]</td>\n",
              "      <td>[-0.5615677590726315, -1.3629824259284742, -2....</td>\n",
              "      <td>[-16.840807, 4.265732]</td>\n",
              "      <td>0</td>\n",
              "      <td>2019-04-12 17:54:23</td>\n",
              "      <td>0</td>\n",
              "      <td>1</td>\n",
              "      <td>0</td>\n",
              "      <td>0</td>\n",
              "    </tr>\n",
              "    <tr>\n",
              "      <th>48605</th>\n",
              "      <td>1080000000000000000</td>\n",
              "      <td>47074030</td>\n",
              "      <td>lecterro</td>\n",
              "      <td>No, it's not proven. Vaccination is just produ...</td>\n",
              "      <td>['sciarpuccio', 'customdeluxe79', 'thedarkland...</td>\n",
              "      <td>3</td>\n",
              "      <td>0</td>\n",
              "      <td>0</td>\n",
              "      <td>[]</td>\n",
              "      <td>[{'user_id': '47074030', 'username': 'lecterro...</td>\n",
              "      <td>...</td>\n",
              "      <td>[-0.035899732, -0.08410108, -0.08765227, -0.04...</td>\n",
              "      <td>[-7.565072, 10.097867]</td>\n",
              "      <td>[-0.5615677590726315, -1.3629824259284742, -2....</td>\n",
              "      <td>[-16.840807, 4.265732]</td>\n",
              "      <td>0</td>\n",
              "      <td>2019-04-16 22:24:23</td>\n",
              "      <td>0</td>\n",
              "      <td>1</td>\n",
              "      <td>0</td>\n",
              "      <td>0</td>\n",
              "    </tr>\n",
              "    <tr>\n",
              "      <th>48609</th>\n",
              "      <td>1080000000000000000</td>\n",
              "      <td>861000000000000000</td>\n",
              "      <td>patriciamspenc2</td>\n",
              "      <td>He is the President that bailed out vaccinatio...</td>\n",
              "      <td>['iamthewatchman3', 'craigrsawyer']</td>\n",
              "      <td>0</td>\n",
              "      <td>0</td>\n",
              "      <td>0</td>\n",
              "      <td>[]</td>\n",
              "      <td>[{'user_id': '860595938204819458', 'username':...</td>\n",
              "      <td>...</td>\n",
              "      <td>[-0.05483665, -0.045734424, -0.07168237, -0.14...</td>\n",
              "      <td>[-17.665083, 15.848436]</td>\n",
              "      <td>[7.105819932914268, 0.12631774595847284, -0.44...</td>\n",
              "      <td>[30.488146, 0.9783122]</td>\n",
              "      <td>1</td>\n",
              "      <td>2019-06-11 18:00:04</td>\n",
              "      <td>1</td>\n",
              "      <td>1</td>\n",
              "      <td>0</td>\n",
              "      <td>0</td>\n",
              "    </tr>\n",
              "    <tr>\n",
              "      <th>48613</th>\n",
              "      <td>1080000000000000000</td>\n",
              "      <td>839000000000000000</td>\n",
              "      <td>taeis4kook</td>\n",
              "      <td>♡━━━━ day 201/365 ━━━━♡  ✧*2019.07.20*✧ [💌]:Hi...</td>\n",
              "      <td>[]</td>\n",
              "      <td>0</td>\n",
              "      <td>0</td>\n",
              "      <td>6</td>\n",
              "      <td>[]</td>\n",
              "      <td>[{'user_id': '838675078577549313', 'username':...</td>\n",
              "      <td>...</td>\n",
              "      <td>[0.055522718, 0.017678889, 0.20986943, 0.15838...</td>\n",
              "      <td>[11.696595, 5.2429347]</td>\n",
              "      <td>[8.257141183391006, -2.9430878716166595, -0.55...</td>\n",
              "      <td>[21.41897, -3.8995142]</td>\n",
              "      <td>1</td>\n",
              "      <td>2019-07-20 20:05:10</td>\n",
              "      <td>0</td>\n",
              "      <td>1</td>\n",
              "      <td>0</td>\n",
              "      <td>0</td>\n",
              "    </tr>\n",
              "  </tbody>\n",
              "</table>\n",
              "<p>48619 rows × 43 columns</p>\n",
              "</div>\n",
              "      <button class=\"colab-df-convert\" onclick=\"convertToInteractive('df-ac121646-8f29-48d5-9761-c32616e99a96')\"\n",
              "              title=\"Convert this dataframe to an interactive table.\"\n",
              "              style=\"display:none;\">\n",
              "        \n",
              "  <svg xmlns=\"http://www.w3.org/2000/svg\" height=\"24px\"viewBox=\"0 0 24 24\"\n",
              "       width=\"24px\">\n",
              "    <path d=\"M0 0h24v24H0V0z\" fill=\"none\"/>\n",
              "    <path d=\"M18.56 5.44l.94 2.06.94-2.06 2.06-.94-2.06-.94-.94-2.06-.94 2.06-2.06.94zm-11 1L8.5 8.5l.94-2.06 2.06-.94-2.06-.94L8.5 2.5l-.94 2.06-2.06.94zm10 10l.94 2.06.94-2.06 2.06-.94-2.06-.94-.94-2.06-.94 2.06-2.06.94z\"/><path d=\"M17.41 7.96l-1.37-1.37c-.4-.4-.92-.59-1.43-.59-.52 0-1.04.2-1.43.59L10.3 9.45l-7.72 7.72c-.78.78-.78 2.05 0 2.83L4 21.41c.39.39.9.59 1.41.59.51 0 1.02-.2 1.41-.59l7.78-7.78 2.81-2.81c.8-.78.8-2.07 0-2.86zM5.41 20L4 18.59l7.72-7.72 1.47 1.35L5.41 20z\"/>\n",
              "  </svg>\n",
              "      </button>\n",
              "      \n",
              "  <style>\n",
              "    .colab-df-container {\n",
              "      display:flex;\n",
              "      flex-wrap:wrap;\n",
              "      gap: 12px;\n",
              "    }\n",
              "\n",
              "    .colab-df-convert {\n",
              "      background-color: #E8F0FE;\n",
              "      border: none;\n",
              "      border-radius: 50%;\n",
              "      cursor: pointer;\n",
              "      display: none;\n",
              "      fill: #1967D2;\n",
              "      height: 32px;\n",
              "      padding: 0 0 0 0;\n",
              "      width: 32px;\n",
              "    }\n",
              "\n",
              "    .colab-df-convert:hover {\n",
              "      background-color: #E2EBFA;\n",
              "      box-shadow: 0px 1px 2px rgba(60, 64, 67, 0.3), 0px 1px 3px 1px rgba(60, 64, 67, 0.15);\n",
              "      fill: #174EA6;\n",
              "    }\n",
              "\n",
              "    [theme=dark] .colab-df-convert {\n",
              "      background-color: #3B4455;\n",
              "      fill: #D2E3FC;\n",
              "    }\n",
              "\n",
              "    [theme=dark] .colab-df-convert:hover {\n",
              "      background-color: #434B5C;\n",
              "      box-shadow: 0px 1px 3px 1px rgba(0, 0, 0, 0.15);\n",
              "      filter: drop-shadow(0px 1px 2px rgba(0, 0, 0, 0.3));\n",
              "      fill: #FFFFFF;\n",
              "    }\n",
              "  </style>\n",
              "\n",
              "      <script>\n",
              "        const buttonEl =\n",
              "          document.querySelector('#df-ac121646-8f29-48d5-9761-c32616e99a96 button.colab-df-convert');\n",
              "        buttonEl.style.display =\n",
              "          google.colab.kernel.accessAllowed ? 'block' : 'none';\n",
              "\n",
              "        async function convertToInteractive(key) {\n",
              "          const element = document.querySelector('#df-ac121646-8f29-48d5-9761-c32616e99a96');\n",
              "          const dataTable =\n",
              "            await google.colab.kernel.invokeFunction('convertToInteractive',\n",
              "                                                     [key], {});\n",
              "          if (!dataTable) return;\n",
              "\n",
              "          const docLinkHtml = 'Like what you see? Visit the ' +\n",
              "            '<a target=\"_blank\" href=https://colab.research.google.com/notebooks/data_table.ipynb>data table notebook</a>'\n",
              "            + ' to learn more about interactive tables.';\n",
              "          element.innerHTML = '';\n",
              "          dataTable['output_type'] = 'display_data';\n",
              "          await google.colab.output.renderOutput(dataTable, element);\n",
              "          const docLink = document.createElement('div');\n",
              "          docLink.innerHTML = docLinkHtml;\n",
              "          element.appendChild(docLink);\n",
              "        }\n",
              "      </script>\n",
              "    </div>\n",
              "  </div>\n",
              "  "
            ]
          },
          "metadata": {},
          "execution_count": 50
        }
      ]
    },
    {
      "cell_type": "code",
      "source": [],
      "metadata": {
        "id": "BRkeMQwVmuio"
      },
      "execution_count": null,
      "outputs": []
    }
  ],
  "metadata": {
    "accelerator": "TPU",
    "colab": {
      "provenance": [],
      "gpuType": "T4"
    },
    "gpuClass": "standard",
    "kernelspec": {
      "display_name": "Python 3",
      "language": "python",
      "name": "python3"
    },
    "language_info": {
      "codemirror_mode": {
        "name": "ipython",
        "version": 2
      },
      "file_extension": ".py",
      "mimetype": "text/x-python",
      "name": "python",
      "nbconvert_exporter": "python",
      "pygments_lexer": "ipython2",
      "version": "2.7.6"
    }
  },
  "nbformat": 4,
  "nbformat_minor": 0
}