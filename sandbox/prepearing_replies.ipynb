{
 "cells": [
  {
   "cell_type": "code",
   "execution_count": 1,
   "metadata": {
    "collapsed": true
   },
   "outputs": [],
   "source": [
    "import pandas as pd\n",
    "from tqdm.notebook import tqdm\n",
    "import numpy as np\n",
    "import re\n",
    "import math\n",
    "import pickle\n",
    "import ast\n",
    "import matplotlib.pyplot as plt\n",
    "import preprocessor as p\n",
    "from sentence_transformers import SentenceTransformer\n",
    "\n",
    "p.set_options(p.OPT.URL, p.OPT.EMOJI, p.OPT.MENTION)\n",
    "model = SentenceTransformer('all-MiniLM-L6-v2')"
   ]
  },
  {
   "cell_type": "code",
   "execution_count": 3,
   "outputs": [
    {
     "name": "stderr",
     "output_type": "stream",
     "text": [
      "/var/folders/mg/cn2grfyj1s744mx1p527fzgm0000gn/T/ipykernel_56288/2002576259.py:1: DtypeWarning: Columns (9,21) have mixed types. Specify dtype option on import or set low_memory=False.\n",
      "  df = pd.read_csv('data/twitter_vaccination_dataset/master.csv')\n"
     ]
    }
   ],
   "source": [
    "df = pd.read_csv('data/twitter_vaccination_dataset/master.csv')\n",
    "df['conversation_id'] = df['conversation_id'].astype(int)\n",
    "df['user_id'] = df['user_id'].astype(int)\n",
    "df['id'] = df['id'].astype(int)\n",
    "\n",
    "conversations1 = df[df['conversation_id']\n",
    "                   .map(df['conversation_id']\n",
    "                   .value_counts()) >= 5000]['conversation_id'].unique()\n",
    "\n",
    "conversations2 = df[df['conversation_id']\n",
    "                   .map(df['conversation_id']\n",
    "                   .value_counts()) >= 5]['conversation_id'].unique()\n",
    "\n",
    "conversations = set(conversations2) - set(conversations1)\n",
    "df_replies = df.query('conversation_id in @conversations')"
   ],
   "metadata": {
    "collapsed": false
   }
  },
  {
   "cell_type": "code",
   "execution_count": 4,
   "outputs": [],
   "source": [
    "def preprocess(text):\n",
    "    if 'RT' in text:\n",
    "        return None\n",
    "    cleaned_text = p.clean(text)\n",
    "    cleaned_text = ' '.join(re.findall('[a-z]+', cleaned_text, flags=re.IGNORECASE)).lower()\n",
    "    if cleaned_text == '':\n",
    "        return None\n",
    "    return cleaned_text"
   ],
   "metadata": {
    "collapsed": false
   }
  },
  {
   "cell_type": "code",
   "execution_count": 8,
   "outputs": [
    {
     "data": {
      "text/plain": "  0%|          | 0/1351128 [00:00<?, ?it/s]",
      "application/vnd.jupyter.widget-view+json": {
       "version_major": 2,
       "version_minor": 0,
       "model_id": "41602d0cbfd34131bf3c09555458d03e"
      }
     },
     "metadata": {},
     "output_type": "display_data"
    },
    {
     "name": "stderr",
     "output_type": "stream",
     "text": [
      "/var/folders/mg/cn2grfyj1s744mx1p527fzgm0000gn/T/ipykernel_56288/192579358.py:11: SettingWithCopyWarning: \n",
      "A value is trying to be set on a copy of a slice from a DataFrame\n",
      "\n",
      "See the caveats in the documentation: https://pandas.pydata.org/pandas-docs/stable/user_guide/indexing.html#returning-a-view-versus-a-copy\n",
      "  df_replies['embeddings'][i] = embeddings[i]\n"
     ]
    },
    {
     "data": {
      "text/plain": "                          id     conversation_id    created_at        date  \\\n0                 1194918582          1193730372  1.234260e+12  10/02/2009   \n1                 1194814680          1193730372  1.234250e+12  10/02/2009   \n2                 1194173719          1193730372  1.234230e+12  10/02/2009   \n3                 1193850980          1193730372  1.234230e+12  10/02/2009   \n4                 1193784560          1193730372  1.234230e+12  10/02/2009   \n...                      ...                 ...           ...         ...   \n1351123  1200000000000000000  964000000000000000  1.570000e+12  25/11/2019   \n1351124  1200000000000000000  941000000000000000  1.570000e+12  25/11/2019   \n1351125  1200000000000000000  961000000000000000  1.570000e+12  26/11/2019   \n1351126  1200000000000000000  941000000000000000  1.570000e+12  27/11/2019   \n1351127  1200000000000000000  941000000000000000  1.570000e+12  27/11/2019   \n\n             time                 timezone             user_id  \\\n0        12:08:53  E. Africa Standard Time            15820442   \n1        11:04:52  E. Africa Standard Time             2276201   \n2        05:45:13  E. Africa Standard Time            12488312   \n3        03:53:17  E. Africa Standard Time             7461972   \n4        03:27:44  E. Africa Standard Time            15022458   \n...           ...                      ...                 ...   \n1351123  11:27:11  E. Africa Standard Time  766000000000000000   \n1351124  05:26:07  E. Africa Standard Time           849805975   \n1351125  15:31:47  E. Africa Standard Time  743000000000000000   \n1351126  01:54:30  E. Africa Standard Time  976000000000000000   \n1351127  01:27:19  E. Africa Standard Time           849805975   \n\n                username                name place  ... near geo source  \\\n0               tomwhild           Tom Whild   NaN  ...  NaN NaN    NaN   \n1                 sevitz   Citizen Sev 🤷🏻‍♂️   NaN  ...  NaN NaN    NaN   \n2              elbisivni      Charles 🇳🇱🇸🇷🇦🇺   NaN  ...  NaN NaN    NaN   \n3            atariageguy         atariageguy   NaN  ...  NaN NaN    NaN   \n4            weaselbacon    Carolyn Hastings   NaN  ...  NaN NaN    NaN   \n...                  ...                 ...   ...  ...  ...  ..    ...   \n1351123      pancaraccia              Mimosa   NaN  ...  NaN NaN    NaN   \n1351124  realchaim_rubin  Chaim❌Rubin He/Him   NaN  ...  NaN NaN    NaN   \n1351125      suraiyahuss        Suraiya DM 🚫   NaN  ...  NaN NaN    NaN   \n1351126      dkingpower7     ProtectChildren   NaN  ...  NaN NaN    NaN   \n1351127  realchaim_rubin  Chaim❌Rubin He/Him   NaN  ...  NaN NaN    NaN   \n\n        user_rt_id  user_rt  retweet_id  \\\n0              NaN      NaN         NaN   \n1              NaN      NaN         NaN   \n2              NaN      NaN         NaN   \n3              NaN      NaN         NaN   \n4              NaN      NaN         NaN   \n...            ...      ...         ...   \n1351123        NaN      NaN         NaN   \n1351124        NaN      NaN         NaN   \n1351125        NaN      NaN         NaN   \n1351126        NaN      NaN         NaN   \n1351127        NaN      NaN         NaN   \n\n                                                  reply_to retweet_date  \\\n0        [{'user_id': '15820442', 'username': 'tomwhild...          NaN   \n1        [{'user_id': '2276201', 'username': 'sevitz'},...          NaN   \n2        [{'user_id': '12488312', 'username': 'elbisivn...          NaN   \n3        [{'user_id': '7461972', 'username': 'atariageg...          NaN   \n4        [{'user_id': '15022458', 'username': 'weaselba...          NaN   \n...                                                    ...          ...   \n1351123  [{'user_id': '765943276377628673', 'username':...          NaN   \n1351124  [{'user_id': '849805975', 'username': 'realCha...          NaN   \n1351125  [{'user_id': '742765890735869954', 'username':...          NaN   \n1351126  [{'user_id': '976478598117851136', 'username':...          NaN   \n1351127  [{'user_id': '849805975', 'username': 'realCha...          NaN   \n\n                                             cleaned_tweet  \\\n0        amen stephen vaccination is so important i hat...   \n1        vaccination scares are so bloody irresponsible...   \n2        this chap needs our support vaccination scares...   \n3        yes this is infuriating especially now that we...   \n4        thanks for that vaccination is one of my pet i...   \n...                                                    ...   \n1351123  le virus de la variole se transmet exclusiveme...   \n1351124  calling it mutilation is not convincing just m...   \n1351125  in the english doctor edward jenner develops t...   \n1351126  no circumcision is nothing like vaccination on...   \n1351127  a circumcision in public health terms acts as ...   \n\n                                                embeddings  \n0        [-0.0054706745, 0.09844217, 0.075048484, 0.013...  \n1        [0.04750795, 0.03788834, 0.0015141966, 0.04019...  \n2        [-0.0070269336, 0.043089196, 0.014950992, -0.0...  \n3        [-0.022819221, 0.02312067, 0.025248187, -0.012...  \n4        [-0.014918114, 0.041756548, 0.0010046107, -9.9...  \n...                                                    ...  \n1351123  [0.03683498, 0.06865424, -0.013673961, -0.0267...  \n1351124  [-0.0052796206, 0.015638433, 0.009222518, -0.0...  \n1351125  [0.007919503, 0.08331335, 0.031874426, -0.0441...  \n1351126  [0.07487217, 0.09335318, -0.043020695, 0.03961...  \n1351127  [0.04077872, 0.13918395, -0.03278087, -0.02415...  \n\n[1351128 rows x 33 columns]",
      "text/html": "<div>\n<style scoped>\n    .dataframe tbody tr th:only-of-type {\n        vertical-align: middle;\n    }\n\n    .dataframe tbody tr th {\n        vertical-align: top;\n    }\n\n    .dataframe thead th {\n        text-align: right;\n    }\n</style>\n<table border=\"1\" class=\"dataframe\">\n  <thead>\n    <tr style=\"text-align: right;\">\n      <th></th>\n      <th>id</th>\n      <th>conversation_id</th>\n      <th>created_at</th>\n      <th>date</th>\n      <th>time</th>\n      <th>timezone</th>\n      <th>user_id</th>\n      <th>username</th>\n      <th>name</th>\n      <th>place</th>\n      <th>...</th>\n      <th>near</th>\n      <th>geo</th>\n      <th>source</th>\n      <th>user_rt_id</th>\n      <th>user_rt</th>\n      <th>retweet_id</th>\n      <th>reply_to</th>\n      <th>retweet_date</th>\n      <th>cleaned_tweet</th>\n      <th>embeddings</th>\n    </tr>\n  </thead>\n  <tbody>\n    <tr>\n      <th>0</th>\n      <td>1194918582</td>\n      <td>1193730372</td>\n      <td>1.234260e+12</td>\n      <td>10/02/2009</td>\n      <td>12:08:53</td>\n      <td>E. Africa Standard Time</td>\n      <td>15820442</td>\n      <td>tomwhild</td>\n      <td>Tom Whild</td>\n      <td>NaN</td>\n      <td>...</td>\n      <td>NaN</td>\n      <td>NaN</td>\n      <td>NaN</td>\n      <td>NaN</td>\n      <td>NaN</td>\n      <td>NaN</td>\n      <td>[{'user_id': '15820442', 'username': 'tomwhild...</td>\n      <td>NaN</td>\n      <td>amen stephen vaccination is so important i hat...</td>\n      <td>[-0.0054706745, 0.09844217, 0.075048484, 0.013...</td>\n    </tr>\n    <tr>\n      <th>1</th>\n      <td>1194814680</td>\n      <td>1193730372</td>\n      <td>1.234250e+12</td>\n      <td>10/02/2009</td>\n      <td>11:04:52</td>\n      <td>E. Africa Standard Time</td>\n      <td>2276201</td>\n      <td>sevitz</td>\n      <td>Citizen Sev 🤷🏻‍♂️</td>\n      <td>NaN</td>\n      <td>...</td>\n      <td>NaN</td>\n      <td>NaN</td>\n      <td>NaN</td>\n      <td>NaN</td>\n      <td>NaN</td>\n      <td>NaN</td>\n      <td>[{'user_id': '2276201', 'username': 'sevitz'},...</td>\n      <td>NaN</td>\n      <td>vaccination scares are so bloody irresponsible...</td>\n      <td>[0.04750795, 0.03788834, 0.0015141966, 0.04019...</td>\n    </tr>\n    <tr>\n      <th>2</th>\n      <td>1194173719</td>\n      <td>1193730372</td>\n      <td>1.234230e+12</td>\n      <td>10/02/2009</td>\n      <td>05:45:13</td>\n      <td>E. Africa Standard Time</td>\n      <td>12488312</td>\n      <td>elbisivni</td>\n      <td>Charles 🇳🇱🇸🇷🇦🇺</td>\n      <td>NaN</td>\n      <td>...</td>\n      <td>NaN</td>\n      <td>NaN</td>\n      <td>NaN</td>\n      <td>NaN</td>\n      <td>NaN</td>\n      <td>NaN</td>\n      <td>[{'user_id': '12488312', 'username': 'elbisivn...</td>\n      <td>NaN</td>\n      <td>this chap needs our support vaccination scares...</td>\n      <td>[-0.0070269336, 0.043089196, 0.014950992, -0.0...</td>\n    </tr>\n    <tr>\n      <th>3</th>\n      <td>1193850980</td>\n      <td>1193730372</td>\n      <td>1.234230e+12</td>\n      <td>10/02/2009</td>\n      <td>03:53:17</td>\n      <td>E. Africa Standard Time</td>\n      <td>7461972</td>\n      <td>atariageguy</td>\n      <td>atariageguy</td>\n      <td>NaN</td>\n      <td>...</td>\n      <td>NaN</td>\n      <td>NaN</td>\n      <td>NaN</td>\n      <td>NaN</td>\n      <td>NaN</td>\n      <td>NaN</td>\n      <td>[{'user_id': '7461972', 'username': 'atariageg...</td>\n      <td>NaN</td>\n      <td>yes this is infuriating especially now that we...</td>\n      <td>[-0.022819221, 0.02312067, 0.025248187, -0.012...</td>\n    </tr>\n    <tr>\n      <th>4</th>\n      <td>1193784560</td>\n      <td>1193730372</td>\n      <td>1.234230e+12</td>\n      <td>10/02/2009</td>\n      <td>03:27:44</td>\n      <td>E. Africa Standard Time</td>\n      <td>15022458</td>\n      <td>weaselbacon</td>\n      <td>Carolyn Hastings</td>\n      <td>NaN</td>\n      <td>...</td>\n      <td>NaN</td>\n      <td>NaN</td>\n      <td>NaN</td>\n      <td>NaN</td>\n      <td>NaN</td>\n      <td>NaN</td>\n      <td>[{'user_id': '15022458', 'username': 'weaselba...</td>\n      <td>NaN</td>\n      <td>thanks for that vaccination is one of my pet i...</td>\n      <td>[-0.014918114, 0.041756548, 0.0010046107, -9.9...</td>\n    </tr>\n    <tr>\n      <th>...</th>\n      <td>...</td>\n      <td>...</td>\n      <td>...</td>\n      <td>...</td>\n      <td>...</td>\n      <td>...</td>\n      <td>...</td>\n      <td>...</td>\n      <td>...</td>\n      <td>...</td>\n      <td>...</td>\n      <td>...</td>\n      <td>...</td>\n      <td>...</td>\n      <td>...</td>\n      <td>...</td>\n      <td>...</td>\n      <td>...</td>\n      <td>...</td>\n      <td>...</td>\n      <td>...</td>\n    </tr>\n    <tr>\n      <th>1351123</th>\n      <td>1200000000000000000</td>\n      <td>964000000000000000</td>\n      <td>1.570000e+12</td>\n      <td>25/11/2019</td>\n      <td>11:27:11</td>\n      <td>E. Africa Standard Time</td>\n      <td>766000000000000000</td>\n      <td>pancaraccia</td>\n      <td>Mimosa</td>\n      <td>NaN</td>\n      <td>...</td>\n      <td>NaN</td>\n      <td>NaN</td>\n      <td>NaN</td>\n      <td>NaN</td>\n      <td>NaN</td>\n      <td>NaN</td>\n      <td>[{'user_id': '765943276377628673', 'username':...</td>\n      <td>NaN</td>\n      <td>le virus de la variole se transmet exclusiveme...</td>\n      <td>[0.03683498, 0.06865424, -0.013673961, -0.0267...</td>\n    </tr>\n    <tr>\n      <th>1351124</th>\n      <td>1200000000000000000</td>\n      <td>941000000000000000</td>\n      <td>1.570000e+12</td>\n      <td>25/11/2019</td>\n      <td>05:26:07</td>\n      <td>E. Africa Standard Time</td>\n      <td>849805975</td>\n      <td>realchaim_rubin</td>\n      <td>Chaim❌Rubin He/Him</td>\n      <td>NaN</td>\n      <td>...</td>\n      <td>NaN</td>\n      <td>NaN</td>\n      <td>NaN</td>\n      <td>NaN</td>\n      <td>NaN</td>\n      <td>NaN</td>\n      <td>[{'user_id': '849805975', 'username': 'realCha...</td>\n      <td>NaN</td>\n      <td>calling it mutilation is not convincing just m...</td>\n      <td>[-0.0052796206, 0.015638433, 0.009222518, -0.0...</td>\n    </tr>\n    <tr>\n      <th>1351125</th>\n      <td>1200000000000000000</td>\n      <td>961000000000000000</td>\n      <td>1.570000e+12</td>\n      <td>26/11/2019</td>\n      <td>15:31:47</td>\n      <td>E. Africa Standard Time</td>\n      <td>743000000000000000</td>\n      <td>suraiyahuss</td>\n      <td>Suraiya DM 🚫</td>\n      <td>NaN</td>\n      <td>...</td>\n      <td>NaN</td>\n      <td>NaN</td>\n      <td>NaN</td>\n      <td>NaN</td>\n      <td>NaN</td>\n      <td>NaN</td>\n      <td>[{'user_id': '742765890735869954', 'username':...</td>\n      <td>NaN</td>\n      <td>in the english doctor edward jenner develops t...</td>\n      <td>[0.007919503, 0.08331335, 0.031874426, -0.0441...</td>\n    </tr>\n    <tr>\n      <th>1351126</th>\n      <td>1200000000000000000</td>\n      <td>941000000000000000</td>\n      <td>1.570000e+12</td>\n      <td>27/11/2019</td>\n      <td>01:54:30</td>\n      <td>E. Africa Standard Time</td>\n      <td>976000000000000000</td>\n      <td>dkingpower7</td>\n      <td>ProtectChildren</td>\n      <td>NaN</td>\n      <td>...</td>\n      <td>NaN</td>\n      <td>NaN</td>\n      <td>NaN</td>\n      <td>NaN</td>\n      <td>NaN</td>\n      <td>NaN</td>\n      <td>[{'user_id': '976478598117851136', 'username':...</td>\n      <td>NaN</td>\n      <td>no circumcision is nothing like vaccination on...</td>\n      <td>[0.07487217, 0.09335318, -0.043020695, 0.03961...</td>\n    </tr>\n    <tr>\n      <th>1351127</th>\n      <td>1200000000000000000</td>\n      <td>941000000000000000</td>\n      <td>1.570000e+12</td>\n      <td>27/11/2019</td>\n      <td>01:27:19</td>\n      <td>E. Africa Standard Time</td>\n      <td>849805975</td>\n      <td>realchaim_rubin</td>\n      <td>Chaim❌Rubin He/Him</td>\n      <td>NaN</td>\n      <td>...</td>\n      <td>NaN</td>\n      <td>NaN</td>\n      <td>NaN</td>\n      <td>NaN</td>\n      <td>NaN</td>\n      <td>NaN</td>\n      <td>[{'user_id': '849805975', 'username': 'realCha...</td>\n      <td>NaN</td>\n      <td>a circumcision in public health terms acts as ...</td>\n      <td>[0.04077872, 0.13918395, -0.03278087, -0.02415...</td>\n    </tr>\n  </tbody>\n</table>\n<p>1351128 rows × 33 columns</p>\n</div>"
     },
     "execution_count": 8,
     "metadata": {},
     "output_type": "execute_result"
    }
   ],
   "source": [
    "cleaned_tweets = [preprocess(tweet) for tweet in tqdm(df_replies['tweet'])]\n",
    "df_replies['cleaned_tweet'] = cleaned_tweets\n",
    "df_replies = df_replies.dropna(subset=['cleaned_tweet'])\n",
    "df_replies['reply_to'] = df_replies['reply_to'].apply(ast.literal_eval)\n",
    "df_replies = df_replies.reset_index(drop=True)\n",
    "\n",
    "df_replies['embeddings'] = None\n",
    "embeddings = model.encode(df_replies['cleaned_tweet'].values)\n",
    "\n",
    "for i in tqdm(df_replies.index):\n",
    "    df_replies['embeddings'][i] = embeddings[i]\n",
    "\n",
    "with open('data/df_replies.pickle', 'wb') as f:\n",
    "    pickle.dump(df_replies[['conversation_id',\n",
    "                            'user_id',\n",
    "                            'username',\n",
    "                            'tweet',\n",
    "                            'mentions',\n",
    "                            'replies_count',\n",
    "                            'retweets_count',\n",
    "                            'likes_count',\n",
    "                            'hashtags',\n",
    "                            'reply_to',\n",
    "                            'cleaned_tweet',\n",
    "                            'embeddings'\n",
    "                            ]], f)\n",
    "df_replies"
   ],
   "metadata": {
    "collapsed": false
   }
  },
  {
   "cell_type": "code",
   "execution_count": null,
   "outputs": [],
   "source": [],
   "metadata": {
    "collapsed": false
   }
  }
 ],
 "metadata": {
  "kernelspec": {
   "display_name": "Python 3",
   "language": "python",
   "name": "python3"
  },
  "language_info": {
   "codemirror_mode": {
    "name": "ipython",
    "version": 2
   },
   "file_extension": ".py",
   "mimetype": "text/x-python",
   "name": "python",
   "nbconvert_exporter": "python",
   "pygments_lexer": "ipython2",
   "version": "2.7.6"
  }
 },
 "nbformat": 4,
 "nbformat_minor": 0
}
