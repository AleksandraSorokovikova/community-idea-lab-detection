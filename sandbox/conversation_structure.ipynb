{
 "cells": [
  {
   "cell_type": "code",
   "execution_count": 3,
   "metadata": {
    "collapsed": true
   },
   "outputs": [],
   "source": [
    "import pickle\n",
    "import pandas as pd\n",
    "from tqdm.notebook import tqdm"
   ]
  },
  {
   "cell_type": "code",
   "execution_count": 6,
   "outputs": [
    {
     "data": {
      "text/plain": "                  user_id                                              tweet  \\\n0                23249874  Vaccines and the diseases vaccination can prev...   \n1                16854311  @electric589 @kevinmd Vaccines and the disease...   \n2                11274452  For autism, vaccination is the simple answer t...   \n3                17054920  sitfu.com Russian Activist Disappears After Ex...   \n4                67735456  Flu vaccination programme for pregnant women u...   \n...                   ...                                                ...   \n51295           419555327  Haha. I've also noted the Orange Blob's tweets...   \n51296  874000000000000000  Re: \"Everyone is entitled to their own opinion...   \n51297           419555327  Elvis asked me to say \"hi\" to you. In other ne...   \n51298  964000000000000000  Quatre fois plus de cas de rougeole dans le mo...   \n51299            15170258  So you also do not trust plate tectonics, nucl...   \n\n                                           cleaned_tweet     conversation_id  \\\n0      vaccines and the diseases vaccination can prev...    1290000000000000   \n1      vaccines and the diseases vaccination can caus...    1280000000000000   \n2      for autism vaccination is the simple answer th...    1250000000000000   \n3      sitfu com russian activist disappears after ex...    1210000000000000   \n4      flu vaccination programme for pregnant women u...    1180000000000000   \n...                                                  ...                 ...   \n51295  haha i ve also noted the orange blob s tweets ...  932000000000000000   \n51296  re everyone is entitled to their own opinion d...  932000000000000000   \n51297  elvis asked me to say hi to you in other news ...  932000000000000000   \n51298  quatre fois plus de cas de rougeole dans le mo...  904000000000000000   \n51299  so you also do not trust plate tectonics nucle...  932000000000000000   \n\n       cluster_id  \n0               0  \n1            3952  \n2            3953  \n3            3954  \n4            3955  \n...           ...  \n51295       40660  \n51296       40661  \n51297       40662  \n51298       40663  \n51299       40664  \n\n[40632 rows x 5 columns]",
      "text/html": "<div>\n<style scoped>\n    .dataframe tbody tr th:only-of-type {\n        vertical-align: middle;\n    }\n\n    .dataframe tbody tr th {\n        vertical-align: top;\n    }\n\n    .dataframe thead th {\n        text-align: right;\n    }\n</style>\n<table border=\"1\" class=\"dataframe\">\n  <thead>\n    <tr style=\"text-align: right;\">\n      <th></th>\n      <th>user_id</th>\n      <th>tweet</th>\n      <th>cleaned_tweet</th>\n      <th>conversation_id</th>\n      <th>cluster_id</th>\n    </tr>\n  </thead>\n  <tbody>\n    <tr>\n      <th>0</th>\n      <td>23249874</td>\n      <td>Vaccines and the diseases vaccination can prev...</td>\n      <td>vaccines and the diseases vaccination can prev...</td>\n      <td>1290000000000000</td>\n      <td>0</td>\n    </tr>\n    <tr>\n      <th>1</th>\n      <td>16854311</td>\n      <td>@electric589 @kevinmd Vaccines and the disease...</td>\n      <td>vaccines and the diseases vaccination can caus...</td>\n      <td>1280000000000000</td>\n      <td>3952</td>\n    </tr>\n    <tr>\n      <th>2</th>\n      <td>11274452</td>\n      <td>For autism, vaccination is the simple answer t...</td>\n      <td>for autism vaccination is the simple answer th...</td>\n      <td>1250000000000000</td>\n      <td>3953</td>\n    </tr>\n    <tr>\n      <th>3</th>\n      <td>17054920</td>\n      <td>sitfu.com Russian Activist Disappears After Ex...</td>\n      <td>sitfu com russian activist disappears after ex...</td>\n      <td>1210000000000000</td>\n      <td>3954</td>\n    </tr>\n    <tr>\n      <th>4</th>\n      <td>67735456</td>\n      <td>Flu vaccination programme for pregnant women u...</td>\n      <td>flu vaccination programme for pregnant women u...</td>\n      <td>1180000000000000</td>\n      <td>3955</td>\n    </tr>\n    <tr>\n      <th>...</th>\n      <td>...</td>\n      <td>...</td>\n      <td>...</td>\n      <td>...</td>\n      <td>...</td>\n    </tr>\n    <tr>\n      <th>51295</th>\n      <td>419555327</td>\n      <td>Haha. I've also noted the Orange Blob's tweets...</td>\n      <td>haha i ve also noted the orange blob s tweets ...</td>\n      <td>932000000000000000</td>\n      <td>40660</td>\n    </tr>\n    <tr>\n      <th>51296</th>\n      <td>874000000000000000</td>\n      <td>Re: \"Everyone is entitled to their own opinion...</td>\n      <td>re everyone is entitled to their own opinion d...</td>\n      <td>932000000000000000</td>\n      <td>40661</td>\n    </tr>\n    <tr>\n      <th>51297</th>\n      <td>419555327</td>\n      <td>Elvis asked me to say \"hi\" to you. In other ne...</td>\n      <td>elvis asked me to say hi to you in other news ...</td>\n      <td>932000000000000000</td>\n      <td>40662</td>\n    </tr>\n    <tr>\n      <th>51298</th>\n      <td>964000000000000000</td>\n      <td>Quatre fois plus de cas de rougeole dans le mo...</td>\n      <td>quatre fois plus de cas de rougeole dans le mo...</td>\n      <td>904000000000000000</td>\n      <td>40663</td>\n    </tr>\n    <tr>\n      <th>51299</th>\n      <td>15170258</td>\n      <td>So you also do not trust plate tectonics, nucl...</td>\n      <td>so you also do not trust plate tectonics nucle...</td>\n      <td>932000000000000000</td>\n      <td>40664</td>\n    </tr>\n  </tbody>\n</table>\n<p>40632 rows × 5 columns</p>\n</div>"
     },
     "execution_count": 6,
     "metadata": {},
     "output_type": "execute_result"
    }
   ],
   "source": [
    "tweets = pd.read_csv(\"twitter_without.csv\", lineterminator='\\n', index_col=0)\n",
    "users = list(tweets['user_id'].unique())\n",
    "tweets"
   ],
   "metadata": {
    "collapsed": false
   }
  },
  {
   "cell_type": "code",
   "execution_count": 2,
   "outputs": [],
   "source": [
    "with open('replies_clusters.pickle', 'rb') as f:\n",
    "    replies_clusters = pickle.load(f)\n",
    "replies_clusters['user_id'] = replies_clusters['user_id'].astype(int)\n",
    "users = list(replies_clusters['user_id'].unique())\n",
    "replies_clusters = replies_clusters.drop_duplicates(subset='tweet')"
   ],
   "metadata": {
    "collapsed": false
   }
  },
  {
   "cell_type": "code",
   "execution_count": 7,
   "outputs": [
    {
     "data": {
      "text/plain": "                   id      conversation_id    created_at        date  \\\n1        3.306733e+06              3306733  1.169170e+12  19/01/2007   \n32       1.845999e+08            184599902  1.186150e+12  03/08/2007   \n33       1.845648e+08            184564792  1.186150e+12  03/08/2007   \n48       2.404652e+08            240465222  1.188620e+12  01/09/2007   \n62       2.854168e+08            285416832  1.190440e+12  22/09/2007   \n...               ...                  ...           ...         ...   \n2194939  1.200000e+18  1200000000000000000  1.570000e+12  29/11/2019   \n2194946  1.200000e+18  1200000000000000000  1.570000e+12  29/11/2019   \n2194951  1.200000e+18  1200000000000000000  1.570000e+12  29/11/2019   \n2194953  1.200000e+18  1200000000000000000  1.570000e+12  29/11/2019   \n2194977  1.200000e+18  1200000000000000000  1.580000e+12  30/11/2019   \n\n             time                 timezone             user_id  \\\n1        04:00:47  E. Africa Standard Time              621543   \n32       17:01:40  E. Africa Standard Time             6433472   \n33       16:40:18  E. Africa Standard Time              621543   \n48       07:49:44  E. Africa Standard Time             1769551   \n62       07:34:32  E. Africa Standard Time             2768501   \n...           ...                      ...                 ...   \n2194939  00:52:23  E. Africa Standard Time          1421951876   \n2194946  00:37:00  E. Africa Standard Time          3222921301   \n2194951  00:27:01  E. Africa Standard Time  938000000000000000   \n2194953  00:22:41  E. Africa Standard Time  874000000000000000   \n2194977  02:50:01  E. Africa Standard Time            14062554   \n\n                username                           name place  ... video near  \\\n1              bbchealth                BBC Health News   NaN  ...     0  NaN   \n32               cbcnews                       CBC News   NaN  ...     0  NaN   \n33             bbchealth                BBC Health News   NaN  ...     0  NaN   \n48             nythealth                     NYT Health   NaN  ...     0  NaN   \n62               abcnews                       ABC News   NaN  ...     0  NaN   \n...                  ...                            ...   ...  ...   ...  ...   \n2194939  friendsofscimed                FriendsOfSciMed   NaN  ...     0  NaN   \n2194946  avoiceforchoice    A Voice For Choice Advocacy   NaN  ...     0  NaN   \n2194951     jocitizenusa                  JoCitizen USA   NaN  ...     0  NaN   \n2194953  nadinosaurusrex  Gender Commulist Nadine 🏳️‍⚧️   NaN  ...     0  NaN   \n2194977   mdandersonnews      MD Anderson Cancer Center   NaN  ...     0  NaN   \n\n        geo source  user_rt_id  user_rt  retweet_id  \\\n1       NaN    NaN         NaN      NaN         NaN   \n32      NaN    NaN         NaN      NaN         NaN   \n33      NaN    NaN         NaN      NaN         NaN   \n48      NaN    NaN         NaN      NaN         NaN   \n62      NaN    NaN         NaN      NaN         NaN   \n...      ..    ...         ...      ...         ...   \n2194939 NaN    NaN         NaN      NaN         NaN   \n2194946 NaN    NaN         NaN      NaN         NaN   \n2194951 NaN    NaN         NaN      NaN         NaN   \n2194953 NaN    NaN         NaN      NaN         NaN   \n2194977 NaN    NaN         NaN      NaN         NaN   \n\n                                                  reply_to retweet_date  \\\n1         [{'user_id': '621543', 'username': 'bbchealth'}]          NaN   \n32         [{'user_id': '6433472', 'username': 'CBCNews'}]          NaN   \n33        [{'user_id': '621543', 'username': 'bbchealth'}]          NaN   \n48       [{'user_id': '1769551', 'username': 'NYTHealth'}]          NaN   \n62         [{'user_id': '2768501', 'username': 'abcnews'}]          NaN   \n...                                                    ...          ...   \n2194939  [{'user_id': '1421951876', 'username': 'Friend...          NaN   \n2194946  [{'user_id': '3222921301', 'username': 'avoice...          NaN   \n2194951  [{'user_id': '937896031978688514', 'username':...          NaN   \n2194953  [{'user_id': '874254459718836226', 'username':...          NaN   \n2194977  [{'user_id': '14062554', 'username': 'MDAnders...          NaN   \n\n                   datetime  \n1       2007-01-19 04:00:47  \n32      2007-08-03 17:01:40  \n33      2007-08-03 16:40:18  \n48      2007-09-01 07:49:44  \n62      2007-09-22 07:34:32  \n...                     ...  \n2194939 2019-11-29 00:52:23  \n2194946 2019-11-29 00:37:00  \n2194951 2019-11-29 00:27:01  \n2194953 2019-11-29 00:22:41  \n2194977 2019-11-30 02:50:01  \n\n[76579 rows x 32 columns]",
      "text/html": "<div>\n<style scoped>\n    .dataframe tbody tr th:only-of-type {\n        vertical-align: middle;\n    }\n\n    .dataframe tbody tr th {\n        vertical-align: top;\n    }\n\n    .dataframe thead th {\n        text-align: right;\n    }\n</style>\n<table border=\"1\" class=\"dataframe\">\n  <thead>\n    <tr style=\"text-align: right;\">\n      <th></th>\n      <th>id</th>\n      <th>conversation_id</th>\n      <th>created_at</th>\n      <th>date</th>\n      <th>time</th>\n      <th>timezone</th>\n      <th>user_id</th>\n      <th>username</th>\n      <th>name</th>\n      <th>place</th>\n      <th>...</th>\n      <th>video</th>\n      <th>near</th>\n      <th>geo</th>\n      <th>source</th>\n      <th>user_rt_id</th>\n      <th>user_rt</th>\n      <th>retweet_id</th>\n      <th>reply_to</th>\n      <th>retweet_date</th>\n      <th>datetime</th>\n    </tr>\n  </thead>\n  <tbody>\n    <tr>\n      <th>1</th>\n      <td>3.306733e+06</td>\n      <td>3306733</td>\n      <td>1.169170e+12</td>\n      <td>19/01/2007</td>\n      <td>04:00:47</td>\n      <td>E. Africa Standard Time</td>\n      <td>621543</td>\n      <td>bbchealth</td>\n      <td>BBC Health News</td>\n      <td>NaN</td>\n      <td>...</td>\n      <td>0</td>\n      <td>NaN</td>\n      <td>NaN</td>\n      <td>NaN</td>\n      <td>NaN</td>\n      <td>NaN</td>\n      <td>NaN</td>\n      <td>[{'user_id': '621543', 'username': 'bbchealth'}]</td>\n      <td>NaN</td>\n      <td>2007-01-19 04:00:47</td>\n    </tr>\n    <tr>\n      <th>32</th>\n      <td>1.845999e+08</td>\n      <td>184599902</td>\n      <td>1.186150e+12</td>\n      <td>03/08/2007</td>\n      <td>17:01:40</td>\n      <td>E. Africa Standard Time</td>\n      <td>6433472</td>\n      <td>cbcnews</td>\n      <td>CBC News</td>\n      <td>NaN</td>\n      <td>...</td>\n      <td>0</td>\n      <td>NaN</td>\n      <td>NaN</td>\n      <td>NaN</td>\n      <td>NaN</td>\n      <td>NaN</td>\n      <td>NaN</td>\n      <td>[{'user_id': '6433472', 'username': 'CBCNews'}]</td>\n      <td>NaN</td>\n      <td>2007-08-03 17:01:40</td>\n    </tr>\n    <tr>\n      <th>33</th>\n      <td>1.845648e+08</td>\n      <td>184564792</td>\n      <td>1.186150e+12</td>\n      <td>03/08/2007</td>\n      <td>16:40:18</td>\n      <td>E. Africa Standard Time</td>\n      <td>621543</td>\n      <td>bbchealth</td>\n      <td>BBC Health News</td>\n      <td>NaN</td>\n      <td>...</td>\n      <td>0</td>\n      <td>NaN</td>\n      <td>NaN</td>\n      <td>NaN</td>\n      <td>NaN</td>\n      <td>NaN</td>\n      <td>NaN</td>\n      <td>[{'user_id': '621543', 'username': 'bbchealth'}]</td>\n      <td>NaN</td>\n      <td>2007-08-03 16:40:18</td>\n    </tr>\n    <tr>\n      <th>48</th>\n      <td>2.404652e+08</td>\n      <td>240465222</td>\n      <td>1.188620e+12</td>\n      <td>01/09/2007</td>\n      <td>07:49:44</td>\n      <td>E. Africa Standard Time</td>\n      <td>1769551</td>\n      <td>nythealth</td>\n      <td>NYT Health</td>\n      <td>NaN</td>\n      <td>...</td>\n      <td>0</td>\n      <td>NaN</td>\n      <td>NaN</td>\n      <td>NaN</td>\n      <td>NaN</td>\n      <td>NaN</td>\n      <td>NaN</td>\n      <td>[{'user_id': '1769551', 'username': 'NYTHealth'}]</td>\n      <td>NaN</td>\n      <td>2007-09-01 07:49:44</td>\n    </tr>\n    <tr>\n      <th>62</th>\n      <td>2.854168e+08</td>\n      <td>285416832</td>\n      <td>1.190440e+12</td>\n      <td>22/09/2007</td>\n      <td>07:34:32</td>\n      <td>E. Africa Standard Time</td>\n      <td>2768501</td>\n      <td>abcnews</td>\n      <td>ABC News</td>\n      <td>NaN</td>\n      <td>...</td>\n      <td>0</td>\n      <td>NaN</td>\n      <td>NaN</td>\n      <td>NaN</td>\n      <td>NaN</td>\n      <td>NaN</td>\n      <td>NaN</td>\n      <td>[{'user_id': '2768501', 'username': 'abcnews'}]</td>\n      <td>NaN</td>\n      <td>2007-09-22 07:34:32</td>\n    </tr>\n    <tr>\n      <th>...</th>\n      <td>...</td>\n      <td>...</td>\n      <td>...</td>\n      <td>...</td>\n      <td>...</td>\n      <td>...</td>\n      <td>...</td>\n      <td>...</td>\n      <td>...</td>\n      <td>...</td>\n      <td>...</td>\n      <td>...</td>\n      <td>...</td>\n      <td>...</td>\n      <td>...</td>\n      <td>...</td>\n      <td>...</td>\n      <td>...</td>\n      <td>...</td>\n      <td>...</td>\n      <td>...</td>\n    </tr>\n    <tr>\n      <th>2194939</th>\n      <td>1.200000e+18</td>\n      <td>1200000000000000000</td>\n      <td>1.570000e+12</td>\n      <td>29/11/2019</td>\n      <td>00:52:23</td>\n      <td>E. Africa Standard Time</td>\n      <td>1421951876</td>\n      <td>friendsofscimed</td>\n      <td>FriendsOfSciMed</td>\n      <td>NaN</td>\n      <td>...</td>\n      <td>0</td>\n      <td>NaN</td>\n      <td>NaN</td>\n      <td>NaN</td>\n      <td>NaN</td>\n      <td>NaN</td>\n      <td>NaN</td>\n      <td>[{'user_id': '1421951876', 'username': 'Friend...</td>\n      <td>NaN</td>\n      <td>2019-11-29 00:52:23</td>\n    </tr>\n    <tr>\n      <th>2194946</th>\n      <td>1.200000e+18</td>\n      <td>1200000000000000000</td>\n      <td>1.570000e+12</td>\n      <td>29/11/2019</td>\n      <td>00:37:00</td>\n      <td>E. Africa Standard Time</td>\n      <td>3222921301</td>\n      <td>avoiceforchoice</td>\n      <td>A Voice For Choice Advocacy</td>\n      <td>NaN</td>\n      <td>...</td>\n      <td>0</td>\n      <td>NaN</td>\n      <td>NaN</td>\n      <td>NaN</td>\n      <td>NaN</td>\n      <td>NaN</td>\n      <td>NaN</td>\n      <td>[{'user_id': '3222921301', 'username': 'avoice...</td>\n      <td>NaN</td>\n      <td>2019-11-29 00:37:00</td>\n    </tr>\n    <tr>\n      <th>2194951</th>\n      <td>1.200000e+18</td>\n      <td>1200000000000000000</td>\n      <td>1.570000e+12</td>\n      <td>29/11/2019</td>\n      <td>00:27:01</td>\n      <td>E. Africa Standard Time</td>\n      <td>938000000000000000</td>\n      <td>jocitizenusa</td>\n      <td>JoCitizen USA</td>\n      <td>NaN</td>\n      <td>...</td>\n      <td>0</td>\n      <td>NaN</td>\n      <td>NaN</td>\n      <td>NaN</td>\n      <td>NaN</td>\n      <td>NaN</td>\n      <td>NaN</td>\n      <td>[{'user_id': '937896031978688514', 'username':...</td>\n      <td>NaN</td>\n      <td>2019-11-29 00:27:01</td>\n    </tr>\n    <tr>\n      <th>2194953</th>\n      <td>1.200000e+18</td>\n      <td>1200000000000000000</td>\n      <td>1.570000e+12</td>\n      <td>29/11/2019</td>\n      <td>00:22:41</td>\n      <td>E. Africa Standard Time</td>\n      <td>874000000000000000</td>\n      <td>nadinosaurusrex</td>\n      <td>Gender Commulist Nadine 🏳️‍⚧️</td>\n      <td>NaN</td>\n      <td>...</td>\n      <td>0</td>\n      <td>NaN</td>\n      <td>NaN</td>\n      <td>NaN</td>\n      <td>NaN</td>\n      <td>NaN</td>\n      <td>NaN</td>\n      <td>[{'user_id': '874254459718836226', 'username':...</td>\n      <td>NaN</td>\n      <td>2019-11-29 00:22:41</td>\n    </tr>\n    <tr>\n      <th>2194977</th>\n      <td>1.200000e+18</td>\n      <td>1200000000000000000</td>\n      <td>1.580000e+12</td>\n      <td>30/11/2019</td>\n      <td>02:50:01</td>\n      <td>E. Africa Standard Time</td>\n      <td>14062554</td>\n      <td>mdandersonnews</td>\n      <td>MD Anderson Cancer Center</td>\n      <td>NaN</td>\n      <td>...</td>\n      <td>0</td>\n      <td>NaN</td>\n      <td>NaN</td>\n      <td>NaN</td>\n      <td>NaN</td>\n      <td>NaN</td>\n      <td>NaN</td>\n      <td>[{'user_id': '14062554', 'username': 'MDAnders...</td>\n      <td>NaN</td>\n      <td>2019-11-30 02:50:01</td>\n    </tr>\n  </tbody>\n</table>\n<p>76579 rows × 32 columns</p>\n</div>"
     },
     "execution_count": 7,
     "metadata": {},
     "output_type": "execute_result"
    }
   ],
   "source": [
    "dataset = pd.read_csv('data/twitter_vaccination_dataset/master.csv')\n",
    "dataset['conversation_id'] = dataset['conversation_id'].astype(int)\n",
    "dataset['user_id'] = dataset['user_id'].astype(int)\n",
    "dataset['datetime'] = dataset['date'] + '-' + dataset['time']\n",
    "dataset['datetime'] = pd.to_datetime(dataset['datetime'], format='%d/%m/%Y-%H:%M:%S', errors='ignore')\n",
    "\n",
    "dataset = dataset[dataset['user_id'].isin(users)]\n",
    "dataset = dataset.drop_duplicates('tweet')\n",
    "dataset"
   ],
   "metadata": {
    "collapsed": false
   }
  },
  {
   "cell_type": "code",
   "execution_count": 8,
   "outputs": [],
   "source": [
    "merged = tweets.merge(dataset[['tweet', 'datetime']],\n",
    "                                on='tweet',\n",
    "                                how='left').sort_values(by=['conversation_id', 'datetime'])"
   ],
   "metadata": {
    "collapsed": false
   }
  },
  {
   "cell_type": "code",
   "execution_count": 46,
   "outputs": [],
   "source": [
    "merged[['conversation_id', 'user_id', 'tweet', 'datetime']].to_csv('tweets_vaccine_conversation_with_date.csv')"
   ],
   "metadata": {
    "collapsed": false
   }
  },
  {
   "cell_type": "code",
   "execution_count": 44,
   "outputs": [],
   "source": [
    "with open('replies_clusters_with_datetime.pickle', 'wb') as f:\n",
    "    pickle.dump(merged, f)"
   ],
   "metadata": {
    "collapsed": false
   }
  },
  {
   "cell_type": "code",
   "execution_count": 9,
   "outputs": [],
   "source": [
    "merged['user_id_tweeet'] = merged['user_id'].astype(str) + ': ' + merged['tweet']"
   ],
   "metadata": {
    "collapsed": false
   }
  },
  {
   "cell_type": "code",
   "execution_count": 11,
   "outputs": [],
   "source": [
    "merged = merged.sort_values('datetime')"
   ],
   "metadata": {
    "collapsed": false
   }
  },
  {
   "cell_type": "code",
   "execution_count": 12,
   "outputs": [
    {
     "data": {
      "text/plain": "  0%|          | 0/1484 [00:00<?, ?it/s]",
      "application/vnd.jupyter.widget-view+json": {
       "version_major": 2,
       "version_minor": 0,
       "model_id": "ba3e1825b6f2453da9f1f3894dcbc219"
      }
     },
     "metadata": {},
     "output_type": "display_data"
    }
   ],
   "source": [
    "conversations = pd.DataFrame(columns=['conversation_id', 'tweets'])\n",
    "conversations['conversation_id'] = merged['conversation_id'].unique()\n",
    "conversations.index = conversations['conversation_id']\n",
    "\n",
    "for conversation_id in tqdm(merged['conversation_id'].unique()):\n",
    "    tweets = merged[merged['conversation_id'] == conversation_id]['user_id_tweeet'].values\n",
    "    if len(tweets) > 1:\n",
    "        conversations.loc[conversation_id, 'tweets'] = '\\n'.join(tweets)"
   ],
   "metadata": {
    "collapsed": false
   }
  },
  {
   "cell_type": "code",
   "execution_count": 13,
   "outputs": [],
   "source": [
    "conversations = conversations.reset_index(drop=True)"
   ],
   "metadata": {
    "collapsed": false
   }
  },
  {
   "cell_type": "code",
   "execution_count": 18,
   "outputs": [],
   "source": [
    "conversations[~conversations['tweets'].isna()].to_csv('vaccine_conversations_without_bots.csv')"
   ],
   "metadata": {
    "collapsed": false
   }
  },
  {
   "cell_type": "code",
   "execution_count": 15,
   "outputs": [
    {
     "data": {
      "text/plain": "          conversation_id                                             tweets\n0        1030000000000000  15628274: Vaccination Dangers  http://bit.ly/5...\n2       35600000000000000  47514193: Reading Brain Damage Caused by Vacci...\n11       2040000000000000  25929374: Gardasil HPV Vaccine Stopping Genita...\n12       2370000000000000  47514193: Ghana: Public Flee From H1N1 Vaccina...\n18       2770000000000000  47514193: Swine flu by stealth or vaccination ...\n...                   ...                                                ...\n1479   996000000000000000  1634556649: A decline in pneumococcal pneumoni...\n1480   997000000000000000  67690947: #Ebola en #RDC🇨🇩  Dernière mise à jo...\n1481   998000000000000000  57703513: La #coqueluche. Contagieuse. Évitabl...\n1482   999000000000000000  57703513: La meilleure façon de se protéger co...\n1483  1080000000000000000  39972078: The Pregnant Mother who Declined TDa...\n\n[1167 rows x 2 columns]",
      "text/html": "<div>\n<style scoped>\n    .dataframe tbody tr th:only-of-type {\n        vertical-align: middle;\n    }\n\n    .dataframe tbody tr th {\n        vertical-align: top;\n    }\n\n    .dataframe thead th {\n        text-align: right;\n    }\n</style>\n<table border=\"1\" class=\"dataframe\">\n  <thead>\n    <tr style=\"text-align: right;\">\n      <th></th>\n      <th>conversation_id</th>\n      <th>tweets</th>\n    </tr>\n  </thead>\n  <tbody>\n    <tr>\n      <th>0</th>\n      <td>1030000000000000</td>\n      <td>15628274: Vaccination Dangers  http://bit.ly/5...</td>\n    </tr>\n    <tr>\n      <th>2</th>\n      <td>35600000000000000</td>\n      <td>47514193: Reading Brain Damage Caused by Vacci...</td>\n    </tr>\n    <tr>\n      <th>11</th>\n      <td>2040000000000000</td>\n      <td>25929374: Gardasil HPV Vaccine Stopping Genita...</td>\n    </tr>\n    <tr>\n      <th>12</th>\n      <td>2370000000000000</td>\n      <td>47514193: Ghana: Public Flee From H1N1 Vaccina...</td>\n    </tr>\n    <tr>\n      <th>18</th>\n      <td>2770000000000000</td>\n      <td>47514193: Swine flu by stealth or vaccination ...</td>\n    </tr>\n    <tr>\n      <th>...</th>\n      <td>...</td>\n      <td>...</td>\n    </tr>\n    <tr>\n      <th>1479</th>\n      <td>996000000000000000</td>\n      <td>1634556649: A decline in pneumococcal pneumoni...</td>\n    </tr>\n    <tr>\n      <th>1480</th>\n      <td>997000000000000000</td>\n      <td>67690947: #Ebola en #RDC🇨🇩  Dernière mise à jo...</td>\n    </tr>\n    <tr>\n      <th>1481</th>\n      <td>998000000000000000</td>\n      <td>57703513: La #coqueluche. Contagieuse. Évitabl...</td>\n    </tr>\n    <tr>\n      <th>1482</th>\n      <td>999000000000000000</td>\n      <td>57703513: La meilleure façon de se protéger co...</td>\n    </tr>\n    <tr>\n      <th>1483</th>\n      <td>1080000000000000000</td>\n      <td>39972078: The Pregnant Mother who Declined TDa...</td>\n    </tr>\n  </tbody>\n</table>\n<p>1167 rows × 2 columns</p>\n</div>"
     },
     "execution_count": 15,
     "metadata": {},
     "output_type": "execute_result"
    }
   ],
   "source": [
    "conversations[~conversations['tweets'].isna()]"
   ],
   "metadata": {
    "collapsed": false
   }
  },
  {
   "cell_type": "code",
   "execution_count": 11,
   "outputs": [
    {
     "name": "stdout",
     "output_type": "stream",
     "text": [
      "15628274: Vaccination Dangers  http://bit.ly/54oEjD #health\n",
      "88865710: Sharp end of vaccination | The Daily Telegraph  http://bit.ly/9gFgP8  bigger ouch @nocompulsoryvac #StopAVN #vaxfax #1SOL #VaccineTimes\n",
      "17887403: The Sharp End of Vaccination: @nocompulsoryvac gets served, the case for vax is made brutally clear.  http://is.gd/gMXeu #StopAVN #skeptics\n"
     ]
    }
   ],
   "source": [
    "print(conversations['tweets'][0])"
   ],
   "metadata": {
    "collapsed": false
   }
  },
  {
   "cell_type": "code",
   "execution_count": null,
   "outputs": [],
   "source": [],
   "metadata": {
    "collapsed": false
   }
  }
 ],
 "metadata": {
  "kernelspec": {
   "display_name": "Python 3",
   "language": "python",
   "name": "python3"
  },
  "language_info": {
   "codemirror_mode": {
    "name": "ipython",
    "version": 2
   },
   "file_extension": ".py",
   "mimetype": "text/x-python",
   "name": "python",
   "nbconvert_exporter": "python",
   "pygments_lexer": "ipython2",
   "version": "2.7.6"
  }
 },
 "nbformat": 4,
 "nbformat_minor": 0
}
